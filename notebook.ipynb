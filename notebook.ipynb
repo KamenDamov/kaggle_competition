{
  "cells": [
    {
      "cell_type": "markdown",
      "metadata": {
        "id": "aMTO_mUtK7Xy"
      },
      "source": [
        "# Importer les librairies, et fichiers .py auxiliaires"
      ]
    },
    {
      "cell_type": "code",
      "execution_count": 1,
      "metadata": {
        "id": "aDxdetLcJCvp"
      },
      "outputs": [],
      "source": [
        "import numpy as np\n",
        "import pandas as pd\n",
        "from preprocess_data import *\n",
        "from bayes_classifier import BayesClassifier\n"
      ]
    },
    {
      "cell_type": "markdown",
      "metadata": {
        "id": "sHdKFfvqLWn-"
      },
      "source": [
        "# Jalon 1) Naive de Bayes vanille\n",
        "K-Fold Validation croisée ($k = 5)$:\n",
        "- α: Lissage du postérieur de Bayes"
      ]
    },
    {
      "cell_type": "code",
      "execution_count": 2,
      "metadata": {
        "colab": {
          "base_uri": "https://localhost:8080/",
          "height": 321
        },
        "id": "iD7VY-FYJE02",
        "outputId": "a6dae65d-3d11-40f9-c380-6c51f2aef693"
      },
      "outputs": [],
      "source": [
        "preprocess_data = DataPreprocess()\n",
        "preprocess_data.remove_stopwords()"
      ]
    }
  ],
  "metadata": {
    "colab": {
      "provenance": []
    },
    "kernelspec": {
      "display_name": "Python 3",
      "name": "python3"
    },
    "language_info": {
      "codemirror_mode": {
        "name": "ipython",
        "version": 3
      },
      "file_extension": ".py",
      "mimetype": "text/x-python",
      "name": "python",
      "nbconvert_exporter": "python",
      "pygments_lexer": "ipython3",
      "version": "3.9.12"
    },
    "orig_nbformat": 4
  },
  "nbformat": 4,
  "nbformat_minor": 0
}
