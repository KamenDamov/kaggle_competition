{
  "cells": [
    {
      "cell_type": "markdown",
      "source": [
        "# Importer les librairies, et fichiers .py auxiliaires"
      ],
      "metadata": {
        "id": "aMTO_mUtK7Xy"
      }
    },
    {
      "cell_type": "code",
      "execution_count": 1,
      "metadata": {
        "id": "aDxdetLcJCvp"
      },
      "outputs": [],
      "source": [
        "import numpy as np\n",
        "import pandas as pd\n",
        "from preprocess_data import *"
      ]
    },
    {
      "cell_type": "markdown",
      "source": [
        "# Jalon 1) Naive de Bayes vanille\n",
        "K-Fold Validation croisée ($k = 5)$:\n",
        "- α: Lissage du postérieur de Bayes P[C| X = x_i]"
      ],
      "metadata": {
        "id": "sHdKFfvqLWn-"
      }
    },
    {
      "cell_type": "code",
      "source": [],
      "metadata": {
        "id": "iD7VY-FYJE02"
      },
      "execution_count": null,
      "outputs": []
    }
  ],
  "metadata": {
    "language_info": {
      "name": "python"
    },
    "orig_nbformat": 4,
    "colab": {
      "provenance": []
    },
    "kernelspec": {
      "name": "python3",
      "display_name": "Python 3"
    }
  },
  "nbformat": 4,
  "nbformat_minor": 0
}