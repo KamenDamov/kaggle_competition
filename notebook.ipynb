{
  "cells": [
    {
      "attachments": {},
      "cell_type": "markdown",
      "metadata": {
        "id": "aMTO_mUtK7Xy"
      },
      "source": [
        "# Importer les librairies, et fichiers .py auxiliaires"
      ]
    },
    {
      "cell_type": "code",
      "execution_count": null,
      "metadata": {
        "id": "aDxdetLcJCvp"
      },
      "outputs": [],
      "source": [
        "import numpy as np\n",
        "from preprocess_data import *\n",
        "from bayes_classifier import BayesClassifier\n",
        "from complement_naive_bayes import train_cnb_with_tfidf, train_cnb\n",
        "from ensemble_learning import train_ensemble\n",
        "from xgboost_classifier import train_xgboost, train_xgboost_with_tfidf\n",
        "\n",
        "from save_output import save_output"
      ]
    },
    {
      "attachments": {},
      "cell_type": "markdown",
      "metadata": {},
      "source": [
        "# Exploration de données"
      ]
    },
    {
      "cell_type": "code",
      "execution_count": null,
      "metadata": {},
      "outputs": [],
      "source": []
    },
    {
      "attachments": {},
      "cell_type": "markdown",
      "metadata": {
        "id": "sHdKFfvqLWn-"
      },
      "source": [
        "# Jalon 1) Naive de Bayes vanille\n",
        "K-Fold Validation croisée ($k = 7)$:\n",
        "- α: Lissage du postérieur de Bayes"
      ]
    },
    {
      "cell_type": "code",
      "execution_count": null,
      "metadata": {
        "colab": {
          "base_uri": "https://localhost:8080/",
          "height": 321
        },
        "id": "iD7VY-FYJE02",
        "outputId": "a6dae65d-3d11-40f9-c380-6c51f2aef693"
      },
      "outputs": [],
      "source": [
        "data_preprocess = DataPreprocess()\n",
        "bayes_classifier = BayesClassifier()\n",
        "best_lps, best_f1 = bayes_classifier.hyperparameter_tuning(data_preprocess.train, data_preprocess.label_train)\n",
        "print(best_lps, best_f1)\n",
        "tuned_bayes_classifier = BayesClassifier()\n",
        "tuned_bayes_classifier.fit(data_preprocess.train, data_preprocess.label_train, best_lps)\n",
        "predictions = np.array([tuned_bayes_classifier.predict(x_i) for x_i in data_preprocess.test])\n",
        "save_output(predictions, \"bayes\", best_lps, \"stopwords\")"
      ]
    },
    {
      "attachments": {},
      "cell_type": "markdown",
      "metadata": {},
      "source": [
        "# Jalon 2)"
      ]
    },
    {
      "attachments": {},
      "cell_type": "markdown",
      "metadata": {},
      "source": [
        "Naive Bayes Complement (avec TFIDF)"
      ]
    },
    {
      "cell_type": "code",
      "execution_count": null,
      "metadata": {},
      "outputs": [],
      "source": [
        "data_preprocess = DataPreprocess()\n",
        "complement_naive_bayes, tfidf_transformer = train_cnb_with_tfidf(data_preprocess.train, data_preprocess.label_train)\n",
        "tfidf_test = tfidf_transformer.transform(data_preprocess.test)\n",
        "predictions = complement_naive_bayes.predict(tfidf_test)\n",
        "save_output(predictions, \"cnb\", \"random_search_50_iter\", \"tfidf\")"
      ]
    },
    {
      "attachments": {},
      "cell_type": "markdown",
      "metadata": {},
      "source": [
        "Naive Bayes Complement"
      ]
    },
    {
      "cell_type": "code",
      "execution_count": null,
      "metadata": {},
      "outputs": [],
      "source": [
        "data_preprocess = DataPreprocess()\n",
        "complement_naive_bayes = train_cnb(data_preprocess.train, data_preprocess.label_train)\n",
        "predictions = complement_naive_bayes.predict(data_preprocess.test)\n",
        "save_output(predictions, \"cnb\", \"random_search_50_iter\", \"no_preprocessing\")"
      ]
    },
    {
      "attachments": {},
      "cell_type": "markdown",
      "metadata": {},
      "source": [
        "XGBoost - Sur-échantillonnage bootstrap"
      ]
    },
    {
      "cell_type": "code",
      "execution_count": null,
      "metadata": {},
      "outputs": [],
      "source": [
        "data_preprocess = DataPreprocess()\n",
        "data_preprocess.remove_stopwords()\n",
        "x_train_oversampled, y_train_oversampled = boostrap_oversampling(data_preprocess.train, data_preprocess.label_train)\n",
        "xgboost_classifier, tfidf_transformer = train_xgboost(x_train_oversampled, y_train_oversampled)\n",
        "predictions = xgboost_classifier.predict(data_preprocess.test)\n",
        "save_output(predictions, \"xgboost\", \"random_search_15_iter\", \"stopwords_bootstrap\")"
      ]
    },
    {
      "attachments": {},
      "cell_type": "markdown",
      "metadata": {},
      "source": [
        "# Apprentissage par Ensemble"
      ]
    },
    {
      "attachments": {},
      "cell_type": "markdown",
      "metadata": {},
      "source": [
        "CNB, XGBoost, Logistic Regression sans stopwords, sous-échantillonage"
      ]
    },
    {
      "cell_type": "code",
      "execution_count": null,
      "metadata": {},
      "outputs": [],
      "source": [
        "data_preprocess = DataPreprocess()\n",
        "data_preprocess.remove_stopwords()\n",
        "X_train_undersampled, y_train_undersampled = random_undersampling(data_preprocess.train, data_preprocess.label_train)\n",
        "model_names = ['ComplementNB', 'XGBoost', 'LogisticRegression']\n",
        "best_ensemble_model = train_ensemble(X_train_undersampled, y_train_undersampled, model_names)\n",
        "predictions_voter = best_ensemble_model.predict(data_preprocess.test)\n",
        "save_output(predictions_voter, \"ensemble_cnb_xgboost_logreg\", \"random_search_15_iter\", \"stopwords\")"
      ]
    }
  ],
  "metadata": {
    "colab": {
      "provenance": []
    },
    "kernelspec": {
      "display_name": "Python 3",
      "name": "python3"
    },
    "language_info": {
      "codemirror_mode": {
        "name": "ipython",
        "version": 3
      },
      "file_extension": ".py",
      "mimetype": "text/x-python",
      "name": "python",
      "nbconvert_exporter": "python",
      "pygments_lexer": "ipython3",
      "version": "3.9.12"
    },
    "orig_nbformat": 4
  },
  "nbformat": 4,
  "nbformat_minor": 0
}
