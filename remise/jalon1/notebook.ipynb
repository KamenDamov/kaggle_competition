{
 "cells": [
  {
   "attachments": {},
   "cell_type": "markdown",
   "metadata": {
    "id": "aMTO_mUtK7Xy"
   },
   "source": [
    "# Importer les librairies, et fichiers .py auxiliaires\n",
    "\n",
    "Il est nécessaire de copier les données au même niveau dans un dossier nommé \"classer-le-text\"\n",
    "\n",
    "Soit dans : \"./classer-le-text\""
   ]
  },
  {
   "cell_type": "code",
   "metadata": {
    "id": "aDxdetLcJCvp",
    "ExecuteTime": {
     "end_time": "2024-11-12T19:25:56.525513Z",
     "start_time": "2024-11-12T19:25:56.075582Z"
    }
   },
   "source": [
    "import numpy as np\n",
    "from preprocess_data import *\n",
    "from bayes_classifier import BayesClassifier\n",
    "from save_output import save_output"
   ],
   "outputs": [],
   "execution_count": 1
  },
  {
   "cell_type": "code",
   "metadata": {
    "ExecuteTime": {
     "end_time": "2024-11-12T19:25:57.168670Z",
     "start_time": "2024-11-12T19:25:56.527651Z"
    }
   },
   "source": [
    "data_preprocess = DataPreprocess()\n",
    "X_train, y_train, X_test = data_preprocess.train, data_preprocess.label_train, data_preprocess.test"
   ],
   "outputs": [],
   "execution_count": 2
  },
  {
   "attachments": {},
   "cell_type": "markdown",
   "metadata": {
    "id": "sHdKFfvqLWn-"
   },
   "source": [
    "# Jalon 1) Naive de Bayes vanille\n",
    "K-Fold Validation croisée ($k = 7)$:\n",
    "- α: Lissage du postérieur de Bayes\n",
    "\n",
    "Prétraitement: aucun"
   ]
  },
  {
   "cell_type": "code",
   "metadata": {
    "colab": {
     "base_uri": "https://localhost:8080/",
     "height": 321
    },
    "id": "iD7VY-FYJE02",
    "outputId": "a6dae65d-3d11-40f9-c380-6c51f2aef693",
    "ExecuteTime": {
     "end_time": "2024-11-12T19:26:32.935477Z",
     "start_time": "2024-11-12T19:25:57.242235Z"
    }
   },
   "source": [
    "bayes_classifier = BayesClassifier()\n",
    "best_lps, best_f1 = bayes_classifier.hyperparameter_tuning(X_train, y_train)\n",
    "print(best_lps, best_f1)\n",
    "tuned_bayes_classifier = BayesClassifier()\n",
    "tuned_bayes_classifier.fit(X_train, y_train, best_lps)\n",
    "predictions = np.array([tuned_bayes_classifier.predict(x_i) for x_i in X_test])\n",
    "save_output(predictions, \"bayes\", best_lps, \"\")"
   ],
   "outputs": [
    {
     "name": "stderr",
     "output_type": "stream",
     "text": [
      "100%|██████████| 13/13 [00:35<00:00,  2.72s/it]\n"
     ]
    },
    {
     "name": "stdout",
     "output_type": "stream",
     "text": [
      "0.45 0.5893606382576555\n",
      "predictions saved in output/20241112/142632_bayes_0.45_.csv\n",
      "already same predictions saved in submissions? None\n",
      "already same predictions saved in output?\n",
      "\t None\n",
      "Number of 0: 1585\n",
      "Number of 1: 771\n",
      "Ratio of 1: 0.3272495755517827\n",
      "Number of differences with bayes classifier submission: 80\n",
      "Ratio of 1 in bayes submission: 0.29499151103565363\n"
     ]
    }
   ],
   "execution_count": 3
  }
 ],
 "metadata": {
  "colab": {
   "provenance": []
  },
  "kernelspec": {
   "display_name": "Python 3 (ipykernel)",
   "language": "python",
   "name": "python3"
  },
  "language_info": {
   "codemirror_mode": {
    "name": "ipython",
    "version": 3
   },
   "file_extension": ".py",
   "mimetype": "text/x-python",
   "name": "python",
   "nbconvert_exporter": "python",
   "pygments_lexer": "ipython3",
   "version": "3.9.12"
  },
  "orig_nbformat": 4
 },
 "nbformat": 4,
 "nbformat_minor": 0
}
