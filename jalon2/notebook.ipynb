{
 "cells": [
  {
   "attachments": {},
   "cell_type": "markdown",
   "metadata": {
    "id": "aMTO_mUtK7Xy"
   },
   "source": [
    "# Importer les librairies, et fichiers .py auxiliaires"
   ]
  },
  {
   "cell_type": "code",
   "execution_count": 2,
   "metadata": {
    "ExecuteTime": {
     "end_time": "2024-11-12T03:37:24.354652Z",
     "start_time": "2024-11-12T03:37:22.866305Z"
    },
    "id": "aDxdetLcJCvp"
   },
   "outputs": [],
   "source": [
    "import numpy as np\n",
    "from preprocess_data import *\n",
    "from bayes_classifier import BayesClassifier\n",
    "from complement_naive_bayes import train_cnb_with_tfidf, train_cnb\n",
    "from ensemble_learning import train_ensemble\n",
    "from xgboost_classifier import train_xgboost, train_xgboost_with_tfidf\n",
    "from svc_classifier import *\n",
    "from sgd_classifier import *\n",
    "from sklearn.model_selection import StratifiedKFold\n",
    "\n",
    "from save_output import save_output"
   ]
  },
  {
   "cell_type": "code",
   "execution_count": 3,
   "metadata": {
    "ExecuteTime": {
     "end_time": "2024-11-12T03:37:24.929258Z",
     "start_time": "2024-11-12T03:37:24.356723Z"
    }
   },
   "outputs": [],
   "source": [
    "data_preprocess = DataPreprocess()\n",
    "X_train, y_train, X_test = data_preprocess.train, data_preprocess.label_train, data_preprocess.test"
   ]
  },
  {
   "attachments": {},
   "cell_type": "markdown",
   "metadata": {},
   "source": [
    "# Jalon 2)\n",
    "# Naive Bayes Complement\n",
    "K-Fold validation croisée stratifiée ($k = 5)$:\n",
    "- α: Lissage du postérieur de Bayes\n",
    " \n",
    "Prétraitement: TFIDF"
   ]
  },
  {
   "cell_type": "code",
   "execution_count": 7,
   "metadata": {
    "ExecuteTime": {
     "end_time": "2024-11-12T03:33:34.747715Z",
     "start_time": "2024-11-12T03:31:01.751323Z"
    }
   },
   "outputs": [
    {
     "name": "stdout",
     "output_type": "stream",
     "text": [
      "Fitting 2 folds for each of 50 candidates, totalling 100 fits\n",
      "[CV 1/2] END .....cnb__alpha=0.5619101782710437;, score=0.111 total time=   1.5s\n",
      "[CV 2/2] END .....cnb__alpha=0.5619101782710437;, score=0.110 total time=   1.5s\n",
      "[CV 1/2] END .....cnb__alpha=1.4261714596148742;, score=0.003 total time=   1.5s\n",
      "[CV 2/2] END .....cnb__alpha=1.4261714596148742;, score=0.007 total time=   1.5s\n",
      "[CV 1/2] END .....cnb__alpha=1.0980909127171077;, score=0.005 total time=   1.5s\n",
      "[CV 2/2] END .....cnb__alpha=1.0980909127171077;, score=0.019 total time=   1.5s\n",
      "[CV 1/2] END .....cnb__alpha=0.8980877262955549;, score=0.016 total time=   1.5s\n",
      "[CV 2/2] END .....cnb__alpha=0.8980877262955549;, score=0.026 total time=   1.5s\n",
      "[CV 1/2] END ....cnb__alpha=0.23412796066365477;, score=0.448 total time=   1.5s\n",
      "[CV 2/2] END ....cnb__alpha=0.23412796066365477;, score=0.420 total time=   1.5s\n",
      "[CV 1/2] END ....cnb__alpha=0.23409178050430396;, score=0.448 total time=   1.5s\n",
      "[CV 2/2] END ....cnb__alpha=0.23409178050430396;, score=0.420 total time=   1.5s\n",
      "[CV 1/2] END .....cnb__alpha=0.0872254182522992;, score=0.561 total time=   1.5s\n",
      "[CV 2/2] END .....cnb__alpha=0.0872254182522992;, score=0.550 total time=   1.5s\n",
      "[CV 1/2] END .....cnb__alpha=1.2993642186624028;, score=0.003 total time=   1.5s\n",
      "[CV 2/2] END .....cnb__alpha=1.2993642186624028;, score=0.009 total time=   1.5s\n",
      "[CV 1/2] END .....cnb__alpha=0.9017725176148133;, score=0.016 total time=   1.5s\n",
      "[CV 2/2] END .....cnb__alpha=0.9017725176148133;, score=0.026 total time=   1.5s\n",
      "[CV 1/2] END .....cnb__alpha=1.0622088666940683;, score=0.007 total time=   1.5s\n",
      "[CV 2/2] END .....cnb__alpha=1.0622088666940683;, score=0.022 total time=   1.5s\n",
      "[CV 1/2] END ....cnb__alpha=0.03097674144370367;, score=0.557 total time=   1.5s\n",
      "[CV 2/2] END ....cnb__alpha=0.03097674144370367;, score=0.558 total time=   1.5s\n",
      "[CV 1/2] END .....cnb__alpha=1.4549647782429915;, score=0.002 total time=   1.5s\n",
      "[CV 2/2] END .....cnb__alpha=1.4549647782429915;, score=0.005 total time=   1.5s\n",
      "[CV 1/2] END .....cnb__alpha=1.2487639612006325;, score=0.005 total time=   1.5s\n",
      "[CV 2/2] END .....cnb__alpha=1.2487639612006325;, score=0.010 total time=   1.5s\n",
      "[CV 1/2] END .....cnb__alpha=0.3186086660174142;, score=0.314 total time=   1.5s\n",
      "[CV 2/2] END .....cnb__alpha=0.3186086660174142;, score=0.319 total time=   1.5s\n",
      "[CV 1/2] END .....cnb__alpha=0.2728374508106509;, score=0.379 total time=   1.5s\n",
      "[CV 2/2] END .....cnb__alpha=0.2728374508106509;, score=0.379 total time=   1.5s\n",
      "[CV 1/2] END .....cnb__alpha=0.2752067647801507;, score=0.377 total time=   1.5s\n",
      "[CV 2/2] END .....cnb__alpha=0.2752067647801507;, score=0.378 total time=   1.5s\n",
      "[CV 1/2] END .....cnb__alpha=0.4564633644393066;, score=0.170 total time=   1.5s\n",
      "[CV 2/2] END .....cnb__alpha=0.4564633644393066;, score=0.184 total time=   1.5s\n",
      "[CV 1/2] END .....cnb__alpha=0.7872346474483567;, score=0.031 total time=   1.5s\n",
      "[CV 2/2] END .....cnb__alpha=0.7872346474483567;, score=0.035 total time=   1.5s\n",
      "[CV 1/2] END .....cnb__alpha=0.6480175279631737;, score=0.065 total time=   1.5s\n",
      "[CV 2/2] END .....cnb__alpha=0.6480175279631737;, score=0.074 total time=   1.5s\n",
      "[CV 1/2] END ....cnb__alpha=0.43694371029706286;, score=0.184 total time=   1.5s\n",
      "[CV 2/2] END ....cnb__alpha=0.43694371029706286;, score=0.195 total time=   1.5s\n",
      "[CV 1/2] END .....cnb__alpha=0.9178793420835691;, score=0.016 total time=   1.5s\n",
      "[CV 2/2] END .....cnb__alpha=0.9178793420835691;, score=0.024 total time=   1.5s\n",
      "[CV 1/2] END ....cnb__alpha=0.20934079097806274;, score=0.476 total time=   1.5s\n",
      "[CV 2/2] END ....cnb__alpha=0.20934079097806274;, score=0.444 total time=   1.5s\n",
      "[CV 1/2] END .....cnb__alpha=0.4383169728028272;, score=0.184 total time=   1.5s\n",
      "[CV 2/2] END .....cnb__alpha=0.4383169728028272;, score=0.194 total time=   1.5s\n",
      "[CV 1/2] END .....cnb__alpha=0.5496427649405375;, score=0.114 total time=   1.5s\n",
      "[CV 2/2] END .....cnb__alpha=0.5496427649405375;, score=0.119 total time=   1.5s\n",
      "[CV 1/2] END .....cnb__alpha=0.6842049763255539;, score=0.054 total time=   1.5s\n",
      "[CV 2/2] END .....cnb__alpha=0.6842049763255539;, score=0.064 total time=   1.5s\n",
      "[CV 1/2] END .....cnb__alpha=1.1778639420895203;, score=0.005 total time=   1.5s\n",
      "[CV 2/2] END .....cnb__alpha=1.1778639420895203;, score=0.014 total time=   1.5s\n",
      "[CV 1/2] END .....cnb__alpha=0.2996106732375396;, score=0.339 total time=   1.5s\n",
      "[CV 2/2] END .....cnb__alpha=0.2996106732375396;, score=0.341 total time=   1.5s\n",
      "[CV 1/2] END .....cnb__alpha=0.7714516576204173;, score=0.032 total time=   1.5s\n",
      "[CV 2/2] END .....cnb__alpha=0.7714516576204173;, score=0.035 total time=   1.5s\n",
      "[CV 1/2] END .....cnb__alpha=0.8887218532930636;, score=0.016 total time=   1.5s\n",
      "[CV 2/2] END .....cnb__alpha=0.8887218532930636;, score=0.026 total time=   1.5s\n",
      "[CV 1/2] END ....cnb__alpha=0.06977561907999659;, score=0.561 total time=   1.5s\n",
      "[CV 2/2] END ....cnb__alpha=0.06977561907999659;, score=0.556 total time=   1.5s\n",
      "[CV 1/2] END .....cnb__alpha=0.9114172778521575;, score=0.016 total time=   1.5s\n",
      "[CV 2/2] END .....cnb__alpha=0.9114172778521575;, score=0.024 total time=   1.5s\n",
      "[CV 1/2] END .....cnb__alpha=0.2558861855309373;, score=0.411 total time=   1.5s\n",
      "[CV 2/2] END .....cnb__alpha=0.2558861855309373;, score=0.393 total time=   1.5s\n",
      "[CV 1/2] END ....cnb__alpha=0.09767738947791928;, score=0.562 total time=   1.5s\n",
      "[CV 2/2] END ....cnb__alpha=0.09767738947791928;, score=0.544 total time=   1.5s\n",
      "[CV 1/2] END ..........cnb__alpha=1.42342830588;, score=0.003 total time=   1.5s\n",
      "[CV 2/2] END ..........cnb__alpha=1.42342830588;, score=0.007 total time=   1.5s\n",
      "[CV 1/2] END ......cnb__alpha=1.448548049611839;, score=0.002 total time=   1.5s\n",
      "[CV 2/2] END ......cnb__alpha=1.448548049611839;, score=0.005 total time=   1.5s\n",
      "[CV 1/2] END .....cnb__alpha=1.2126960221746916;, score=0.005 total time=   1.5s\n",
      "[CV 2/2] END .....cnb__alpha=1.2126960221746916;, score=0.012 total time=   1.5s\n",
      "[CV 1/2] END ......cnb__alpha=0.457020653760056;, score=0.169 total time=   1.5s\n",
      "[CV 2/2] END ......cnb__alpha=0.457020653760056;, score=0.184 total time=   1.5s\n",
      "[CV 1/2] END .....cnb__alpha=0.1466081710095758;, score=0.544 total time=   1.5s\n",
      "[CV 2/2] END .....cnb__alpha=0.1466081710095758;, score=0.508 total time=   1.5s\n",
      "[CV 1/2] END .....cnb__alpha=1.0264495397682354;, score=0.010 total time=   1.5s\n",
      "[CV 2/2] END .....cnb__alpha=1.0264495397682354;, score=0.022 total time=   1.5s\n",
      "[CV 1/2] END .....cnb__alpha=0.6603287406094019;, score=0.058 total time=   1.5s\n",
      "[CV 2/2] END .....cnb__alpha=0.6603287406094019;, score=0.069 total time=   1.5s\n",
      "[CV 1/2] END ....cnb__alpha=0.18315735226716823;, score=0.505 total time=   1.5s\n",
      "[CV 2/2] END ....cnb__alpha=0.18315735226716823;, score=0.477 total time=   1.5s\n",
      "[CV 1/2] END .....cnb__alpha=0.7428653651669053;, score=0.034 total time=   1.5s\n",
      "[CV 2/2] END .....cnb__alpha=0.7428653651669053;, score=0.039 total time=   1.5s\n",
      "[CV 1/2] END ...cnb__alpha=0.051682781672827596;, score=0.559 total time=   1.5s\n",
      "[CV 2/2] END ...cnb__alpha=0.051682781672827596;, score=0.552 total time=   1.5s\n",
      "[CV 1/2] END .....cnb__alpha=1.3640806031181731;, score=0.003 total time=   1.5s\n",
      "[CV 2/2] END .....cnb__alpha=1.3640806031181731;, score=0.009 total time=   1.5s\n",
      "[CV 1/2] END ....cnb__alpha=0.38826997240002536;, score=0.225 total time=   1.5s\n",
      "[CV 2/2] END ....cnb__alpha=0.38826997240002536;, score=0.249 total time=   1.5s\n",
      "[CV 1/2] END ......cnb__alpha=0.993883426530973;, score=0.010 total time=   1.5s\n",
      "[CV 2/2] END ......cnb__alpha=0.993883426530973;, score=0.022 total time=   1.5s\n",
      "[CV 1/2] END .....cnb__alpha=0.4676666141341164;, score=0.165 total time=   1.5s\n",
      "[CV 2/2] END .....cnb__alpha=0.4676666141341164;, score=0.175 total time=   1.5s\n",
      "[CV 1/2] END .....cnb__alpha=0.7802020317667162;, score=0.031 total time=   1.5s\n",
      "[CV 2/2] END .....cnb__alpha=0.7802020317667162;, score=0.035 total time=   1.5s\n",
      "[CV 1/2] END .....cnb__alpha=0.8201654190149195;, score=0.021 total time=   1.5s\n",
      "[CV 2/2] END .....cnb__alpha=0.8201654190149195;, score=0.032 total time=   1.5s\n",
      "[CV 1/2] END ....cnb__alpha=0.27738168328829055;, score=0.375 total time=   1.5s\n",
      "[CV 2/2] END ....cnb__alpha=0.27738168328829055;, score=0.376 total time=   1.5s\n",
      "Best Parameters: {'cnb__alpha': 0.06977561907999659}\n",
      "Best F1 Score: 0.5581715276644308\n",
      "predictions saved in output/20241111/223334_cnb_random_search_50_iter_tfidf.csv\n",
      "already same predictions saved in submissions? None\n",
      "already same predictions saved in output?\n",
      "\t output/20241111/215810_cnb_random_search_50_iter_tfidf.csv\n",
      "Number of 0: 1559\n",
      "Number of 1: 797\n",
      "Ratio of 1: 0.33828522920203735\n",
      "Number of differences with bayes classifier submission: 178\n",
      "Ratio of 1 in bayes submission: 0.29499151103565363\n"
     ]
    }
   ],
   "source": [
    "complement_naive_bayes, tfidf_transformer = train_cnb_with_tfidf(X_train, y_train)\n",
    "tfidf_test = tfidf_transformer.transform(X_test)\n",
    "predictions = complement_naive_bayes.predict(tfidf_test)\n",
    "save_output(predictions, \"cnb\", \"random_search_50_iter\", \"tfidf\")"
   ]
  },
  {
   "attachments": {},
   "cell_type": "markdown",
   "metadata": {},
   "source": [
    "Prétraitement: Sans prétraitement"
   ]
  },
  {
   "cell_type": "code",
   "execution_count": 8,
   "metadata": {
    "ExecuteTime": {
     "end_time": "2024-11-12T03:33:36.182330Z",
     "start_time": "2024-11-12T03:33:34.753862Z"
    }
   },
   "outputs": [
    {
     "name": "stdout",
     "output_type": "stream",
     "text": [
      "Fitting 2 folds for each of 1 candidates, totalling 2 fits\n",
      "[CV 1/2] END .....cnb__alpha=0.5619101782710437;, score=0.588 total time=   0.5s\n",
      "[CV 2/2] END .....cnb__alpha=0.5619101782710437;, score=0.575 total time=   0.5s\n",
      "Best Parameters: {'cnb__alpha': 0.5619101782710437}\n",
      "Best F1 Score: 0.581482890607508\n",
      "predictions saved in output/20241111/223336_cnb_random_search_50_iter_no_preprocessing.csv\n",
      "already same predictions saved in submissions? None\n",
      "already same predictions saved in output?\n",
      "\t output/20241111/204747_cnb_random_search_50_iter_no_preprocessing.csv\n",
      "\t output/20241111/154833_cnb_random_search_50_iter_no_preprocessing.csv\n",
      "\t output/20241111/162028_cnb_random_search_50_iter_no_preprocessing.csv\n",
      "\t output/20241111/200251_cnb_random_search_50_iter_no_preprocessing.csv\n",
      "\t output/20241111/162135_cnb_random_search_50_iter_no_preprocessing.csv\n",
      "\t output/20241111/162421_cnb_random_search_50_iter_no_preprocessing.csv\n",
      "\t output/20241111/154327_cnb_random_search_50_iter_no_preprocessing.csv\n",
      "\t output/20241111/154452_cnb_random_search_50_iter_no_preprocessing.csv\n",
      "\t output/20241111/215811_cnb_random_search_50_iter_no_preprocessing.csv\n",
      "\t output/20241111/155514_cnb_random_search_50_iter_no_preprocessing.csv\n",
      "\t output/20241110/172138_cnb_random_search_50_iter_no_preprocessing.csv\n",
      "Number of 0: 1544\n",
      "Number of 1: 812\n",
      "Ratio of 1: 0.34465195246179964\n",
      "Number of differences with bayes classifier submission: 117\n",
      "Ratio of 1 in bayes submission: 0.29499151103565363\n"
     ]
    }
   ],
   "source": [
    "complement_naive_bayes = train_cnb(X_train, y_train)\n",
    "predictions = complement_naive_bayes.predict(X_test)\n",
    "save_output(predictions, \"cnb\", \"random_search_50_iter\", \"no_preprocessing\")"
   ]
  },
  {
   "attachments": {},
   "cell_type": "markdown",
   "metadata": {},
   "source": [
    "Prétraitement: TFIDF, réduction par arbre, stopwords retirés"
   ]
  },
  {
   "cell_type": "code",
   "execution_count": 4,
   "metadata": {
    "ExecuteTime": {
     "end_time": "2024-11-12T03:38:01.200798Z",
     "start_time": "2024-11-12T03:37:41.325373Z"
    }
   },
   "outputs": [
    {
     "name": "stdout",
     "output_type": "stream",
     "text": [
      "Fitting 2 folds for each of 50 candidates, totalling 100 fits\n",
      "[CV 1/2] END .....cnb__alpha=0.5619101782710437;, score=0.572 total time=   0.1s\n",
      "[CV 2/2] END .....cnb__alpha=0.5619101782710437;, score=0.556 total time=   0.1s\n",
      "[CV 1/2] END .....cnb__alpha=1.4261714596148742;, score=0.568 total time=   0.1s\n",
      "[CV 2/2] END .....cnb__alpha=1.4261714596148742;, score=0.544 total time=   0.1s\n",
      "[CV 1/2] END .....cnb__alpha=1.0980909127171077;, score=0.572 total time=   0.1s\n",
      "[CV 2/2] END .....cnb__alpha=1.0980909127171077;, score=0.553 total time=   0.1s\n",
      "[CV 1/2] END .....cnb__alpha=0.8980877262955549;, score=0.571 total time=   0.1s\n",
      "[CV 2/2] END .....cnb__alpha=0.8980877262955549;, score=0.554 total time=   0.1s\n",
      "[CV 1/2] END ....cnb__alpha=0.23412796066365477;, score=0.562 total time=   0.1s\n",
      "[CV 2/2] END ....cnb__alpha=0.23412796066365477;, score=0.551 total time=   0.1s\n",
      "[CV 1/2] END ....cnb__alpha=0.23409178050430396;, score=0.562 total time=   0.1s\n",
      "[CV 2/2] END ....cnb__alpha=0.23409178050430396;, score=0.551 total time=   0.1s\n",
      "[CV 1/2] END .....cnb__alpha=0.0872254182522992;, score=0.555 total time=   0.1s\n",
      "[CV 2/2] END .....cnb__alpha=0.0872254182522992;, score=0.550 total time=   0.1s\n",
      "[CV 1/2] END .....cnb__alpha=1.2993642186624028;, score=0.567 total time=   0.1s\n",
      "[CV 2/2] END .....cnb__alpha=1.2993642186624028;, score=0.547 total time=   0.1s\n",
      "[CV 1/2] END .....cnb__alpha=0.9017725176148133;, score=0.571 total time=   0.1s\n",
      "[CV 2/2] END .....cnb__alpha=0.9017725176148133;, score=0.553 total time=   0.1s\n",
      "[CV 1/2] END .....cnb__alpha=1.0622088666940683;, score=0.573 total time=   0.1s\n",
      "[CV 2/2] END .....cnb__alpha=1.0622088666940683;, score=0.551 total time=   0.1s\n",
      "[CV 1/2] END ....cnb__alpha=0.03097674144370367;, score=0.550 total time=   0.1s\n",
      "[CV 2/2] END ....cnb__alpha=0.03097674144370367;, score=0.550 total time=   0.1s\n",
      "[CV 1/2] END .....cnb__alpha=1.4549647782429915;, score=0.569 total time=   0.1s\n",
      "[CV 2/2] END .....cnb__alpha=1.4549647782429915;, score=0.544 total time=   0.1s\n",
      "[CV 1/2] END .....cnb__alpha=1.2487639612006325;, score=0.568 total time=   0.1s\n",
      "[CV 2/2] END .....cnb__alpha=1.2487639612006325;, score=0.550 total time=   0.1s\n",
      "[CV 1/2] END .....cnb__alpha=0.3186086660174142;, score=0.564 total time=   0.1s\n",
      "[CV 2/2] END .....cnb__alpha=0.3186086660174142;, score=0.551 total time=   0.1s\n",
      "[CV 1/2] END .....cnb__alpha=0.2728374508106509;, score=0.564 total time=   0.1s\n",
      "[CV 2/2] END .....cnb__alpha=0.2728374508106509;, score=0.552 total time=   0.1s\n",
      "[CV 1/2] END .....cnb__alpha=0.2752067647801507;, score=0.564 total time=   0.1s\n",
      "[CV 2/2] END .....cnb__alpha=0.2752067647801507;, score=0.551 total time=   0.1s\n",
      "[CV 1/2] END .....cnb__alpha=0.4564633644393066;, score=0.570 total time=   0.1s\n",
      "[CV 2/2] END .....cnb__alpha=0.4564633644393066;, score=0.551 total time=   0.1s\n",
      "[CV 1/2] END .....cnb__alpha=0.7872346474483567;, score=0.569 total time=   0.1s\n",
      "[CV 2/2] END .....cnb__alpha=0.7872346474483567;, score=0.552 total time=   0.1s\n",
      "[CV 1/2] END .....cnb__alpha=0.6480175279631737;, score=0.567 total time=   0.1s\n",
      "[CV 2/2] END .....cnb__alpha=0.6480175279631737;, score=0.555 total time=   0.1s\n",
      "[CV 1/2] END ....cnb__alpha=0.43694371029706286;, score=0.569 total time=   0.1s\n",
      "[CV 2/2] END ....cnb__alpha=0.43694371029706286;, score=0.550 total time=   0.1s\n",
      "[CV 1/2] END .....cnb__alpha=0.9178793420835691;, score=0.572 total time=   0.1s\n",
      "[CV 2/2] END .....cnb__alpha=0.9178793420835691;, score=0.553 total time=   0.1s\n",
      "[CV 1/2] END ....cnb__alpha=0.20934079097806274;, score=0.560 total time=   0.1s\n",
      "[CV 2/2] END ....cnb__alpha=0.20934079097806274;, score=0.550 total time=   0.1s\n",
      "[CV 1/2] END .....cnb__alpha=0.4383169728028272;, score=0.569 total time=   0.1s\n",
      "[CV 2/2] END .....cnb__alpha=0.4383169728028272;, score=0.550 total time=   0.1s\n",
      "[CV 1/2] END .....cnb__alpha=0.5496427649405375;, score=0.572 total time=   0.1s\n",
      "[CV 2/2] END .....cnb__alpha=0.5496427649405375;, score=0.556 total time=   0.1s\n",
      "[CV 1/2] END .....cnb__alpha=0.6842049763255539;, score=0.568 total time=   0.1s\n",
      "[CV 2/2] END .....cnb__alpha=0.6842049763255539;, score=0.554 total time=   0.1s\n",
      "[CV 1/2] END .....cnb__alpha=1.1778639420895203;, score=0.569 total time=   0.1s\n",
      "[CV 2/2] END .....cnb__alpha=1.1778639420895203;, score=0.550 total time=   0.1s\n",
      "[CV 1/2] END .....cnb__alpha=0.2996106732375396;, score=0.564 total time=   0.1s\n",
      "[CV 2/2] END .....cnb__alpha=0.2996106732375396;, score=0.550 total time=   0.1s\n",
      "[CV 1/2] END .....cnb__alpha=0.7714516576204173;, score=0.569 total time=   0.1s\n",
      "[CV 2/2] END .....cnb__alpha=0.7714516576204173;, score=0.552 total time=   0.1s\n",
      "[CV 1/2] END .....cnb__alpha=0.8887218532930636;, score=0.571 total time=   0.1s\n",
      "[CV 2/2] END .....cnb__alpha=0.8887218532930636;, score=0.554 total time=   0.1s\n",
      "[CV 1/2] END ....cnb__alpha=0.06977561907999659;, score=0.554 total time=   0.1s\n",
      "[CV 2/2] END ....cnb__alpha=0.06977561907999659;, score=0.550 total time=   0.1s\n",
      "[CV 1/2] END .....cnb__alpha=0.9114172778521575;, score=0.571 total time=   0.1s\n",
      "[CV 2/2] END .....cnb__alpha=0.9114172778521575;, score=0.553 total time=   0.1s\n",
      "[CV 1/2] END .....cnb__alpha=0.2558861855309373;, score=0.563 total time=   0.1s\n",
      "[CV 2/2] END .....cnb__alpha=0.2558861855309373;, score=0.551 total time=   0.1s\n",
      "[CV 1/2] END ....cnb__alpha=0.09767738947791928;, score=0.555 total time=   0.1s\n",
      "[CV 2/2] END ....cnb__alpha=0.09767738947791928;, score=0.550 total time=   0.1s\n",
      "[CV 1/2] END ..........cnb__alpha=1.42342830588;, score=0.568 total time=   0.1s\n",
      "[CV 2/2] END ..........cnb__alpha=1.42342830588;, score=0.544 total time=   0.1s\n",
      "[CV 1/2] END ......cnb__alpha=1.448548049611839;, score=0.569 total time=   0.1s\n",
      "[CV 2/2] END ......cnb__alpha=1.448548049611839;, score=0.544 total time=   0.1s\n",
      "[CV 1/2] END .....cnb__alpha=1.2126960221746916;, score=0.568 total time=   0.1s\n",
      "[CV 2/2] END .....cnb__alpha=1.2126960221746916;, score=0.551 total time=   0.1s\n",
      "[CV 1/2] END ......cnb__alpha=0.457020653760056;, score=0.570 total time=   0.1s\n",
      "[CV 2/2] END ......cnb__alpha=0.457020653760056;, score=0.551 total time=   0.1s\n",
      "[CV 1/2] END .....cnb__alpha=0.1466081710095758;, score=0.555 total time=   0.1s\n",
      "[CV 2/2] END .....cnb__alpha=0.1466081710095758;, score=0.551 total time=   0.1s\n",
      "[CV 1/2] END .....cnb__alpha=1.0264495397682354;, score=0.571 total time=   0.1s\n",
      "[CV 2/2] END .....cnb__alpha=1.0264495397682354;, score=0.552 total time=   0.1s\n",
      "[CV 1/2] END .....cnb__alpha=0.6603287406094019;, score=0.567 total time=   0.1s\n",
      "[CV 2/2] END .....cnb__alpha=0.6603287406094019;, score=0.556 total time=   0.1s\n",
      "[CV 1/2] END ....cnb__alpha=0.18315735226716823;, score=0.557 total time=   0.1s\n",
      "[CV 2/2] END ....cnb__alpha=0.18315735226716823;, score=0.551 total time=   0.1s\n",
      "[CV 1/2] END .....cnb__alpha=0.7428653651669053;, score=0.569 total time=   0.1s\n",
      "[CV 2/2] END .....cnb__alpha=0.7428653651669053;, score=0.552 total time=   0.1s\n",
      "[CV 1/2] END ...cnb__alpha=0.051682781672827596;, score=0.553 total time=   0.1s\n",
      "[CV 2/2] END ...cnb__alpha=0.051682781672827596;, score=0.550 total time=   0.1s\n",
      "[CV 1/2] END .....cnb__alpha=1.3640806031181731;, score=0.567 total time=   0.1s\n",
      "[CV 2/2] END .....cnb__alpha=1.3640806031181731;, score=0.545 total time=   0.1s\n",
      "[CV 1/2] END ....cnb__alpha=0.38826997240002536;, score=0.566 total time=   0.1s\n",
      "[CV 2/2] END ....cnb__alpha=0.38826997240002536;, score=0.550 total time=   0.1s\n",
      "[CV 1/2] END ......cnb__alpha=0.993883426530973;, score=0.571 total time=   0.1s\n",
      "[CV 2/2] END ......cnb__alpha=0.993883426530973;, score=0.552 total time=   0.1s\n",
      "[CV 1/2] END .....cnb__alpha=0.4676666141341164;, score=0.569 total time=   0.1s\n",
      "[CV 2/2] END .....cnb__alpha=0.4676666141341164;, score=0.551 total time=   0.1s\n",
      "[CV 1/2] END .....cnb__alpha=0.7802020317667162;, score=0.569 total time=   0.1s\n",
      "[CV 2/2] END .....cnb__alpha=0.7802020317667162;, score=0.552 total time=   0.1s\n",
      "[CV 1/2] END .....cnb__alpha=0.8201654190149195;, score=0.571 total time=   0.1s\n",
      "[CV 2/2] END .....cnb__alpha=0.8201654190149195;, score=0.552 total time=   0.1s\n",
      "[CV 1/2] END ....cnb__alpha=0.27738168328829055;, score=0.564 total time=   0.1s\n",
      "[CV 2/2] END ....cnb__alpha=0.27738168328829055;, score=0.552 total time=   0.1s\n",
      "Best Parameters: {'cnb__alpha': 0.5619101782710437}\n",
      "Best F1 Score: 0.564089827350082\n",
      "predictions saved in output/20241111/223801_cnb_random_search_50_iter_tree_reduction_stopwords_tfidf.csv\n",
      "already same predictions saved in submissions? None\n",
      "already same predictions saved in output?\n",
      "\t output/20241111/215831_cnb_random_search_50_iter_tree_reduction_stopwords_tfidf.csv\n",
      "\t output/20241111/223355_cnb_random_search_50_iter_tree_reduction_stopwords_tfidf.csv\n",
      "\t output/20241111/204801_cnb_random_search_50_iter_tree_reduction_stopwords_tfidf.csv\n",
      "\t output/20241111/200304_cnb_random_search_50_iter_tree_reduction_stopwords_tfidf.csv\n",
      "Number of 0: 1372\n",
      "Number of 1: 984\n",
      "Ratio of 1: 0.41765704584040747\n",
      "Number of differences with bayes classifier submission: 435\n",
      "Ratio of 1 in bayes submission: 0.29499151103565363\n"
     ]
    }
   ],
   "source": [
    "data_preprocess = DataPreprocess()\n",
    "data_preprocess.remove_stopwords()\n",
    "X_train, sorted_indices_features = tree_based_dimensionality_reduction(data_preprocess.train, data_preprocess.label_train)\n",
    "X_test = data_preprocess.test[:, sorted_indices_features]\n",
    "complement_naive_bayes, tfidf_transformer = train_cnb_with_tfidf(X_train, data_preprocess.label_train)\n",
    "tfidf_test = tfidf_transformer.transform(X_test)\n",
    "predictions = complement_naive_bayes.predict(tfidf_test)\n",
    "save_output(predictions, \"cnb\", \"random_search_50_iter\", \"tree_reduction_stopwords_tfidf\")"
   ]
  },
  {
   "attachments": {},
   "cell_type": "markdown",
   "metadata": {},
   "source": [
    "Prétraitement: TFIDF, réduction par arbre, stopwords retirés, suréchantillonnage SMOTE"
   ]
  },
  {
   "cell_type": "code",
   "execution_count": 5,
   "metadata": {
    "ExecuteTime": {
     "end_time": "2024-11-12T03:38:14.425063Z",
     "start_time": "2024-11-12T03:38:01.205691Z"
    }
   },
   "outputs": [
    {
     "name": "stdout",
     "output_type": "stream",
     "text": [
      "Fitting 2 folds for each of 1 candidates, totalling 2 fits\n",
      "[CV 1/2] END .....cnb__alpha=0.5619101782710437;, score=0.635 total time=   0.0s\n",
      "[CV 2/2] END .....cnb__alpha=0.5619101782710437;, score=0.655 total time=   0.0s\n",
      "Best Parameters: {'cnb__alpha': 0.5619101782710437}\n",
      "Best F1 Score: 0.6450953216247627\n",
      "predictions saved in output/20241111/223814_cnb_random_search_50_iter_tree_reduction_stopwords_tfidf_smote.csv\n",
      "already same predictions saved in submissions? None\n",
      "already same predictions saved in output?\n",
      "\t output/20241111/200509_cnb_random_search_50_iter_tree_reduction_stopwords_tfidf_smote.csv\n",
      "\t output/20241111/204814_cnb_random_search_50_iter_tree_reduction_stopwords_tfidf_smote.csv\n",
      "\t output/20241111/215844_cnb_random_search_50_iter_tree_reduction_stopwords_tfidf_smote.csv\n",
      "\t output/20241111/223408_cnb_random_search_50_iter_tree_reduction_stopwords_tfidf_smote.csv\n",
      "Number of 0: 1419\n",
      "Number of 1: 937\n",
      "Ratio of 1: 0.3977079796264856\n",
      "Number of differences with bayes classifier submission: 388\n",
      "Ratio of 1 in bayes submission: 0.29499151103565363\n"
     ]
    }
   ],
   "source": [
    "data_preprocess = DataPreprocess()\n",
    "data_preprocess.remove_stopwords()\n",
    "X_train, sorted_indices_features = tree_based_dimensionality_reduction(data_preprocess.train, data_preprocess.label_train)\n",
    "X_test = data_preprocess.test[:, sorted_indices_features]\n",
    "X_train, y_train = smote_oversampling(X_train, data_preprocess.label_train)\n",
    "\n",
    "complement_naive_bayes = train_cnb(X_train, y_train)\n",
    "tfidf_test = tfidf_transformer.transform(X_test)\n",
    "predictions = complement_naive_bayes.predict(tfidf_test)\n",
    "\n",
    "save_output(predictions, \"cnb\", \"random_search_50_iter\", \"tree_reduction_stopwords_tfidf_smote\")"
   ]
  },
  {
   "cell_type": "markdown",
   "metadata": {},
   "source": [
    "Prétraitement: Retirer stopwords, Réduction par somme cumulative, sous-échantillonage aléatoire"
   ]
  },
  {
   "cell_type": "code",
   "execution_count": 6,
   "metadata": {
    "ExecuteTime": {
     "end_time": "2024-11-12T03:38:15.872364Z",
     "start_time": "2024-11-12T03:38:14.519690Z"
    }
   },
   "outputs": [
    {
     "name": "stdout",
     "output_type": "stream",
     "text": [
      "Fitting 2 folds for each of 1 candidates, totalling 2 fits\n",
      "[CV 1/2] END .....cnb__alpha=0.5619101782710437;, score=0.635 total time=   0.0s\n",
      "[CV 2/2] END .....cnb__alpha=0.5619101782710437;, score=0.655 total time=   0.0s\n",
      "Best Parameters: {'cnb__alpha': 0.5619101782710437}\n",
      "Best F1 Score: 0.6450953216247627\n",
      "predictions saved in output/20241111/223815_cnb_random_search_50_iter_tree_reduction_stopwords_tfidf_smote.csv\n",
      "already same predictions saved in submissions? None\n",
      "already same predictions saved in output?\n",
      "\t output/20241111/200509_cnb_random_search_50_iter_tree_reduction_stopwords_tfidf_smote.csv\n",
      "\t output/20241111/204814_cnb_random_search_50_iter_tree_reduction_stopwords_tfidf_smote.csv\n",
      "\t output/20241111/223814_cnb_random_search_50_iter_tree_reduction_stopwords_tfidf_smote.csv\n",
      "\t output/20241111/215844_cnb_random_search_50_iter_tree_reduction_stopwords_tfidf_smote.csv\n",
      "\t output/20241111/223408_cnb_random_search_50_iter_tree_reduction_stopwords_tfidf_smote.csv\n",
      "Number of 0: 1419\n",
      "Number of 1: 937\n",
      "Ratio of 1: 0.3977079796264856\n",
      "Number of differences with bayes classifier submission: 388\n",
      "Ratio of 1 in bayes submission: 0.29499151103565363\n"
     ]
    }
   ],
   "source": [
    "data_preprocess = DataPreprocess()\n",
    "data_preprocess.remove_stopwords()\n",
    "data_preprocess.remove_cum_sum()\n",
    "X_train_undersampled, y_train_undersampled = random_undersampling(data_preprocess.train, data_preprocess.label_train)\n",
    "\n",
    "complement_naive_bayes = train_cnb(X_train, y_train)\n",
    "tfidf_test = tfidf_transformer.transform(X_test)\n",
    "predictions = complement_naive_bayes.predict(tfidf_test)\n",
    "\n",
    "save_output(predictions, \"cnb\", \"random_search_50_iter\", \"stopwords_cum-sum_undersampled\")"
   ]
  },
  {
   "attachments": {},
   "cell_type": "markdown",
   "metadata": {},
   "source": [
    "# SVC\n",
    "Grid Search, K-Fold validation croisée stratifiée ($k = 5)$, avec hyperparamètres:\n",
    "- $\\gamma$ : Coefficient du Noyau RBF\n",
    "- $C$ : Terme de régularization pour la pénalité euclidienne.\n",
    "\n",
    "Prétraitement: Retirer stopwords, Réduction par somme cumulative, sous-échantillonage aléatoire"
   ]
  },
  {
   "cell_type": "code",
   "execution_count": 7,
   "metadata": {
    "ExecuteTime": {
     "end_time": "2024-11-12T03:42:09.822550Z",
     "start_time": "2024-11-12T03:41:27.757675Z"
    }
   },
   "outputs": [
    {
     "name": "stdout",
     "output_type": "stream",
     "text": [
      "{'gamma': array([0.003, 0.004, 0.005, 0.006, 0.007, 0.008, 0.009, 0.01 , 0.011,\n",
      "       0.012, 0.013, 0.014, 0.015, 0.016, 0.017, 0.018, 0.019]), 'C': array([45, 46, 47, 48, 49, 50, 51, 52, 53, 54])}\n",
      "Fitting 1 folds for each of 170 candidates, totalling 170 fits\n",
      "[CV 1/1] END .................C=45, gamma=0.003;, score=0.635 total time=   0.5s\n",
      "[CV 1/1] END .................C=45, gamma=0.004;, score=0.646 total time=   0.2s\n",
      "[CV 1/1] END .................C=45, gamma=0.005;, score=0.651 total time=   0.2s\n",
      "[CV 1/1] END .................C=45, gamma=0.006;, score=0.651 total time=   0.2s\n",
      "[CV 1/1] END .................C=45, gamma=0.007;, score=0.650 total time=   0.2s\n",
      "[CV 1/1] END .................C=45, gamma=0.008;, score=0.643 total time=   0.2s\n",
      "[CV 1/1] END ..C=45, gamma=0.009000000000000001;, score=0.635 total time=   0.2s\n",
      "[CV 1/1] END ..................C=45, gamma=0.01;, score=0.631 total time=   0.2s\n",
      "[CV 1/1] END .................C=45, gamma=0.011;, score=0.620 total time=   0.2s\n",
      "[CV 1/1] END .................C=45, gamma=0.012;, score=0.605 total time=   0.2s\n",
      "[CV 1/1] END ..C=45, gamma=0.013000000000000001;, score=0.593 total time=   0.2s\n",
      "[CV 1/1] END ..C=45, gamma=0.013999999999999999;, score=0.579 total time=   0.2s\n",
      "[CV 1/1] END .................C=45, gamma=0.015;, score=0.547 total time=   0.2s\n",
      "[CV 1/1] END .................C=45, gamma=0.016;, score=0.534 total time=   0.2s\n",
      "[CV 1/1] END .................C=45, gamma=0.017;, score=0.513 total time=   0.2s\n",
      "[CV 1/1] END .................C=45, gamma=0.018;, score=0.499 total time=   0.2s\n",
      "[CV 1/1] END .................C=45, gamma=0.019;, score=0.484 total time=   0.2s\n",
      "[CV 1/1] END .................C=46, gamma=0.003;, score=0.635 total time=   0.3s\n",
      "[CV 1/1] END .................C=46, gamma=0.004;, score=0.646 total time=   0.2s\n",
      "[CV 1/1] END .................C=46, gamma=0.005;, score=0.650 total time=   0.2s\n",
      "[CV 1/1] END .................C=46, gamma=0.006;, score=0.648 total time=   0.2s\n",
      "[CV 1/1] END .................C=46, gamma=0.007;, score=0.650 total time=   0.2s\n",
      "[CV 1/1] END .................C=46, gamma=0.008;, score=0.643 total time=   0.2s\n",
      "[CV 1/1] END ..C=46, gamma=0.009000000000000001;, score=0.635 total time=   0.2s\n",
      "[CV 1/1] END ..................C=46, gamma=0.01;, score=0.631 total time=   0.2s\n",
      "[CV 1/1] END .................C=46, gamma=0.011;, score=0.620 total time=   0.2s\n",
      "[CV 1/1] END .................C=46, gamma=0.012;, score=0.605 total time=   0.2s\n",
      "[CV 1/1] END ..C=46, gamma=0.013000000000000001;, score=0.593 total time=   0.2s\n",
      "[CV 1/1] END ..C=46, gamma=0.013999999999999999;, score=0.579 total time=   0.2s\n",
      "[CV 1/1] END .................C=46, gamma=0.015;, score=0.547 total time=   0.2s\n",
      "[CV 1/1] END .................C=46, gamma=0.016;, score=0.534 total time=   0.2s\n",
      "[CV 1/1] END .................C=46, gamma=0.017;, score=0.513 total time=   0.2s\n",
      "[CV 1/1] END .................C=46, gamma=0.018;, score=0.499 total time=   0.2s\n",
      "[CV 1/1] END .................C=46, gamma=0.019;, score=0.484 total time=   0.2s\n",
      "[CV 1/1] END .................C=47, gamma=0.003;, score=0.634 total time=   0.3s\n",
      "[CV 1/1] END .................C=47, gamma=0.004;, score=0.645 total time=   0.2s\n",
      "[CV 1/1] END .................C=47, gamma=0.005;, score=0.650 total time=   0.2s\n",
      "[CV 1/1] END .................C=47, gamma=0.006;, score=0.648 total time=   0.2s\n",
      "[CV 1/1] END .................C=47, gamma=0.007;, score=0.649 total time=   0.2s\n",
      "[CV 1/1] END .................C=47, gamma=0.008;, score=0.643 total time=   0.3s\n",
      "[CV 1/1] END ..C=47, gamma=0.009000000000000001;, score=0.635 total time=   0.2s\n",
      "[CV 1/1] END ..................C=47, gamma=0.01;, score=0.631 total time=   0.2s\n",
      "[CV 1/1] END .................C=47, gamma=0.011;, score=0.620 total time=   0.2s\n",
      "[CV 1/1] END .................C=47, gamma=0.012;, score=0.605 total time=   0.2s\n",
      "[CV 1/1] END ..C=47, gamma=0.013000000000000001;, score=0.593 total time=   0.2s\n",
      "[CV 1/1] END ..C=47, gamma=0.013999999999999999;, score=0.579 total time=   0.2s\n",
      "[CV 1/1] END .................C=47, gamma=0.015;, score=0.548 total time=   0.2s\n",
      "[CV 1/1] END .................C=47, gamma=0.016;, score=0.534 total time=   0.2s\n",
      "[CV 1/1] END .................C=47, gamma=0.017;, score=0.513 total time=   0.2s\n",
      "[CV 1/1] END .................C=47, gamma=0.018;, score=0.499 total time=   0.2s\n",
      "[CV 1/1] END .................C=47, gamma=0.019;, score=0.484 total time=   0.2s\n",
      "[CV 1/1] END .................C=48, gamma=0.003;, score=0.632 total time=   0.3s\n",
      "[CV 1/1] END .................C=48, gamma=0.004;, score=0.644 total time=   0.2s\n",
      "[CV 1/1] END .................C=48, gamma=0.005;, score=0.650 total time=   0.2s\n",
      "[CV 1/1] END .................C=48, gamma=0.006;, score=0.648 total time=   0.2s\n",
      "[CV 1/1] END .................C=48, gamma=0.007;, score=0.649 total time=   0.2s\n",
      "[CV 1/1] END .................C=48, gamma=0.008;, score=0.643 total time=   0.2s\n",
      "[CV 1/1] END ..C=48, gamma=0.009000000000000001;, score=0.635 total time=   0.2s\n",
      "[CV 1/1] END ..................C=48, gamma=0.01;, score=0.631 total time=   0.2s\n",
      "[CV 1/1] END .................C=48, gamma=0.011;, score=0.620 total time=   0.2s\n",
      "[CV 1/1] END .................C=48, gamma=0.012;, score=0.605 total time=   0.2s\n",
      "[CV 1/1] END ..C=48, gamma=0.013000000000000001;, score=0.593 total time=   0.2s\n",
      "[CV 1/1] END ..C=48, gamma=0.013999999999999999;, score=0.579 total time=   0.2s\n",
      "[CV 1/1] END .................C=48, gamma=0.015;, score=0.547 total time=   0.2s\n",
      "[CV 1/1] END .................C=48, gamma=0.016;, score=0.534 total time=   0.2s\n",
      "[CV 1/1] END .................C=48, gamma=0.017;, score=0.513 total time=   0.2s\n",
      "[CV 1/1] END .................C=48, gamma=0.018;, score=0.499 total time=   0.2s\n",
      "[CV 1/1] END .................C=48, gamma=0.019;, score=0.484 total time=   0.2s\n",
      "[CV 1/1] END .................C=49, gamma=0.003;, score=0.630 total time=   0.3s\n",
      "[CV 1/1] END .................C=49, gamma=0.004;, score=0.644 total time=   0.3s\n",
      "[CV 1/1] END .................C=49, gamma=0.005;, score=0.649 total time=   0.2s\n",
      "[CV 1/1] END .................C=49, gamma=0.006;, score=0.646 total time=   0.2s\n",
      "[CV 1/1] END .................C=49, gamma=0.007;, score=0.649 total time=   0.2s\n",
      "[CV 1/1] END .................C=49, gamma=0.008;, score=0.643 total time=   0.2s\n",
      "[CV 1/1] END ..C=49, gamma=0.009000000000000001;, score=0.635 total time=   0.2s\n",
      "[CV 1/1] END ..................C=49, gamma=0.01;, score=0.631 total time=   0.3s\n",
      "[CV 1/1] END .................C=49, gamma=0.011;, score=0.620 total time=   0.2s\n",
      "[CV 1/1] END .................C=49, gamma=0.012;, score=0.605 total time=   0.2s\n",
      "[CV 1/1] END ..C=49, gamma=0.013000000000000001;, score=0.593 total time=   0.2s\n",
      "[CV 1/1] END ..C=49, gamma=0.013999999999999999;, score=0.579 total time=   0.2s\n",
      "[CV 1/1] END .................C=49, gamma=0.015;, score=0.547 total time=   0.2s\n",
      "[CV 1/1] END .................C=49, gamma=0.016;, score=0.534 total time=   0.2s\n",
      "[CV 1/1] END .................C=49, gamma=0.017;, score=0.513 total time=   0.2s\n",
      "[CV 1/1] END .................C=49, gamma=0.018;, score=0.499 total time=   0.2s\n",
      "[CV 1/1] END .................C=49, gamma=0.019;, score=0.484 total time=   0.2s\n",
      "[CV 1/1] END .................C=50, gamma=0.003;, score=0.630 total time=   0.3s\n",
      "[CV 1/1] END .................C=50, gamma=0.004;, score=0.645 total time=   0.2s\n",
      "[CV 1/1] END .................C=50, gamma=0.005;, score=0.649 total time=   0.2s\n",
      "[CV 1/1] END .................C=50, gamma=0.006;, score=0.646 total time=   0.2s\n",
      "[CV 1/1] END .................C=50, gamma=0.007;, score=0.649 total time=   0.2s\n",
      "[CV 1/1] END .................C=50, gamma=0.008;, score=0.643 total time=   0.2s\n",
      "[CV 1/1] END ..C=50, gamma=0.009000000000000001;, score=0.635 total time=   0.2s\n",
      "[CV 1/1] END ..................C=50, gamma=0.01;, score=0.631 total time=   0.2s\n",
      "[CV 1/1] END .................C=50, gamma=0.011;, score=0.620 total time=   0.2s\n",
      "[CV 1/1] END .................C=50, gamma=0.012;, score=0.605 total time=   0.2s\n",
      "[CV 1/1] END ..C=50, gamma=0.013000000000000001;, score=0.593 total time=   0.2s\n",
      "[CV 1/1] END ..C=50, gamma=0.013999999999999999;, score=0.579 total time=   0.2s\n",
      "[CV 1/1] END .................C=50, gamma=0.015;, score=0.547 total time=   0.2s\n",
      "[CV 1/1] END .................C=50, gamma=0.016;, score=0.534 total time=   0.2s\n",
      "[CV 1/1] END .................C=50, gamma=0.017;, score=0.513 total time=   0.2s\n",
      "[CV 1/1] END .................C=50, gamma=0.018;, score=0.499 total time=   0.2s\n",
      "[CV 1/1] END .................C=50, gamma=0.019;, score=0.484 total time=   0.2s\n",
      "[CV 1/1] END .................C=51, gamma=0.003;, score=0.628 total time=   0.3s\n",
      "[CV 1/1] END .................C=51, gamma=0.004;, score=0.644 total time=   0.2s\n",
      "[CV 1/1] END .................C=51, gamma=0.005;, score=0.650 total time=   0.2s\n",
      "[CV 1/1] END .................C=51, gamma=0.006;, score=0.647 total time=   0.2s\n",
      "[CV 1/1] END .................C=51, gamma=0.007;, score=0.649 total time=   0.2s\n",
      "[CV 1/1] END .................C=51, gamma=0.008;, score=0.643 total time=   0.2s\n",
      "[CV 1/1] END ..C=51, gamma=0.009000000000000001;, score=0.635 total time=   0.2s\n",
      "[CV 1/1] END ..................C=51, gamma=0.01;, score=0.631 total time=   0.2s\n",
      "[CV 1/1] END .................C=51, gamma=0.011;, score=0.620 total time=   0.2s\n",
      "[CV 1/1] END .................C=51, gamma=0.012;, score=0.605 total time=   0.3s\n",
      "[CV 1/1] END ..C=51, gamma=0.013000000000000001;, score=0.593 total time=   0.2s\n",
      "[CV 1/1] END ..C=51, gamma=0.013999999999999999;, score=0.579 total time=   0.2s\n",
      "[CV 1/1] END .................C=51, gamma=0.015;, score=0.547 total time=   0.2s\n",
      "[CV 1/1] END .................C=51, gamma=0.016;, score=0.534 total time=   0.2s\n",
      "[CV 1/1] END .................C=51, gamma=0.017;, score=0.513 total time=   0.2s\n",
      "[CV 1/1] END .................C=51, gamma=0.018;, score=0.499 total time=   0.2s\n",
      "[CV 1/1] END .................C=51, gamma=0.019;, score=0.484 total time=   0.2s\n",
      "[CV 1/1] END .................C=52, gamma=0.003;, score=0.629 total time=   0.3s\n",
      "[CV 1/1] END .................C=52, gamma=0.004;, score=0.645 total time=   0.2s\n",
      "[CV 1/1] END .................C=52, gamma=0.005;, score=0.650 total time=   0.2s\n",
      "[CV 1/1] END .................C=52, gamma=0.006;, score=0.648 total time=   0.2s\n",
      "[CV 1/1] END .................C=52, gamma=0.007;, score=0.649 total time=   0.2s\n",
      "[CV 1/1] END .................C=52, gamma=0.008;, score=0.643 total time=   0.2s\n",
      "[CV 1/1] END ..C=52, gamma=0.009000000000000001;, score=0.635 total time=   0.2s\n",
      "[CV 1/1] END ..................C=52, gamma=0.01;, score=0.631 total time=   0.2s\n",
      "[CV 1/1] END .................C=52, gamma=0.011;, score=0.620 total time=   0.2s\n",
      "[CV 1/1] END .................C=52, gamma=0.012;, score=0.605 total time=   0.2s\n",
      "[CV 1/1] END ..C=52, gamma=0.013000000000000001;, score=0.593 total time=   0.2s\n",
      "[CV 1/1] END ..C=52, gamma=0.013999999999999999;, score=0.579 total time=   0.2s\n",
      "[CV 1/1] END .................C=52, gamma=0.015;, score=0.548 total time=   0.2s\n",
      "[CV 1/1] END .................C=52, gamma=0.016;, score=0.534 total time=   0.2s\n",
      "[CV 1/1] END .................C=52, gamma=0.017;, score=0.513 total time=   0.2s\n",
      "[CV 1/1] END .................C=52, gamma=0.018;, score=0.499 total time=   0.2s\n",
      "[CV 1/1] END .................C=52, gamma=0.019;, score=0.484 total time=   0.2s\n",
      "[CV 1/1] END .................C=53, gamma=0.003;, score=0.629 total time=   0.3s\n",
      "[CV 1/1] END .................C=53, gamma=0.004;, score=0.646 total time=   0.2s\n",
      "[CV 1/1] END .................C=53, gamma=0.005;, score=0.650 total time=   0.2s\n",
      "[CV 1/1] END .................C=53, gamma=0.006;, score=0.648 total time=   0.2s\n",
      "[CV 1/1] END .................C=53, gamma=0.007;, score=0.649 total time=   0.2s\n",
      "[CV 1/1] END .................C=53, gamma=0.008;, score=0.643 total time=   0.2s\n",
      "[CV 1/1] END ..C=53, gamma=0.009000000000000001;, score=0.635 total time=   0.2s\n",
      "[CV 1/1] END ..................C=53, gamma=0.01;, score=0.631 total time=   0.2s\n",
      "[CV 1/1] END .................C=53, gamma=0.011;, score=0.620 total time=   0.2s\n",
      "[CV 1/1] END .................C=53, gamma=0.012;, score=0.605 total time=   0.2s\n",
      "[CV 1/1] END ..C=53, gamma=0.013000000000000001;, score=0.593 total time=   0.2s\n",
      "[CV 1/1] END ..C=53, gamma=0.013999999999999999;, score=0.579 total time=   0.3s\n",
      "[CV 1/1] END .................C=53, gamma=0.015;, score=0.547 total time=   0.2s\n",
      "[CV 1/1] END .................C=53, gamma=0.016;, score=0.534 total time=   0.2s\n",
      "[CV 1/1] END .................C=53, gamma=0.017;, score=0.513 total time=   0.2s\n",
      "[CV 1/1] END .................C=53, gamma=0.018;, score=0.499 total time=   0.2s\n",
      "[CV 1/1] END .................C=53, gamma=0.019;, score=0.484 total time=   0.2s\n",
      "[CV 1/1] END .................C=54, gamma=0.003;, score=0.629 total time=   0.3s\n",
      "[CV 1/1] END .................C=54, gamma=0.004;, score=0.645 total time=   0.2s\n",
      "[CV 1/1] END .................C=54, gamma=0.005;, score=0.649 total time=   0.2s\n",
      "[CV 1/1] END .................C=54, gamma=0.006;, score=0.648 total time=   0.2s\n",
      "[CV 1/1] END .................C=54, gamma=0.007;, score=0.650 total time=   0.2s\n",
      "[CV 1/1] END .................C=54, gamma=0.008;, score=0.643 total time=   0.2s\n",
      "[CV 1/1] END ..C=54, gamma=0.009000000000000001;, score=0.635 total time=   0.2s\n",
      "[CV 1/1] END ..................C=54, gamma=0.01;, score=0.631 total time=   0.2s\n",
      "[CV 1/1] END .................C=54, gamma=0.011;, score=0.620 total time=   0.2s\n",
      "[CV 1/1] END .................C=54, gamma=0.012;, score=0.605 total time=   0.2s\n",
      "[CV 1/1] END ..C=54, gamma=0.013000000000000001;, score=0.593 total time=   0.2s\n",
      "[CV 1/1] END ..C=54, gamma=0.013999999999999999;, score=0.579 total time=   0.2s\n",
      "[CV 1/1] END .................C=54, gamma=0.015;, score=0.547 total time=   0.2s\n",
      "[CV 1/1] END .................C=54, gamma=0.016;, score=0.534 total time=   0.2s\n",
      "[CV 1/1] END .................C=54, gamma=0.017;, score=0.513 total time=   0.2s\n",
      "[CV 1/1] END .................C=54, gamma=0.018;, score=0.499 total time=   0.2s\n",
      "[CV 1/1] END .................C=54, gamma=0.019;, score=0.484 total time=   0.2s\n"
     ]
    },
    {
     "name": "stderr",
     "output_type": "stream",
     "text": [
      "/home/ggenois/anaconda3/envs/rapids-24.08/lib/python3.9/site-packages/numpy/ma/core.py:2820: RuntimeWarning: invalid value encountered in cast\n",
      "  _data = np.array(data, dtype=dtype, copy=copy,\n"
     ]
    },
    {
     "name": "stdout",
     "output_type": "stream",
     "text": [
      "{'C': 45, 'gamma': 0.006} 0.6510574018126888\n",
      "predictions saved in output/20241111/224209_svm_C=45, gamma=0.006_stopwords_cum-sum_undersampled.csv\n",
      "already same predictions saved in submissions? None\n",
      "already same predictions saved in output?\n",
      "\t output/20241111/163020_svm_C=45, gamma=0.006_stopwords_cum-sum_undersampled.csv\n",
      "\t output/20241111/200600_svm_C=45, gamma=0.006_stopwords_cum-sum_undersampled.csv\n",
      "\t output/20241111/162517_svm_C=45, gamma=0.006_stopwords_cum-sum_undersampled.csv\n",
      "\t output/20241111/215926_svm_C=45, gamma=0.006_stopwords_cum-sum_undersampled.csv\n",
      "\t output/20241111/204856_svm_C=45, gamma=0.006_stopwords_cum-sum_undersampled.csv\n",
      "Number of 0: 1683\n",
      "Number of 1: 673\n",
      "Ratio of 1: 0.28565365025466893\n",
      "Number of differences with bayes classifier submission: 396\n",
      "Ratio of 1 in bayes submission: 0.29499151103565363\n"
     ]
    }
   ],
   "source": [
    "data_preprocess = DataPreprocess()\n",
    "data_preprocess.remove_stopwords()\n",
    "data_preprocess.remove_cum_sum()\n",
    "X_train_undersampled, y_train_undersampled = random_undersampling(data_preprocess.train, data_preprocess.label_train)\n",
    "\n",
    "best_params_, best_score_ = train_svc(X_train_undersampled, y_train_undersampled)\n",
    "print(best_params_, best_score_)\n",
    "svc = SVC(kernel='rbf', C=best_params_['C'], gamma=best_params_['gamma'])\n",
    "svc.fit(X_train_undersampled, y_train_undersampled)\n",
    "y_pred = svc.predict(data_preprocess.test)\n",
    "params = f\"C={best_params_['C']}, gamma={best_params_['gamma']}\"\n",
    "save_output(y_pred, \"svm\", params, \"stopwords_cum-sum_undersampled\")"
   ]
  },
  {
   "cell_type": "markdown",
   "metadata": {},
   "source": [
    "# SGDClassifier\n",
    "Random Search, K-Fold validation croisée stratifiée ($k = 5)$, avec hyperparamètres:\n",
    "- loss: ModifiedHuber \n",
    "- penalty: ElaticNet \n",
    "- l1_ratio: Porportion de la perte d'ElasticNet qui est l1.\n",
    "- $\\alpha$: Poids attribué au terme de régularisation. Une plus grande valeur favorise que certains coefficients soient annulés (par l1) ou fortement adoucis (par l2) quand la pénalité est ElaticNet. \n",
    "\n",
    "Prétraitement: Retirer stopwords, Réduction par somme cumulative, sous-échantillonage aléatoire"
   ]
  },
  {
   "cell_type": "code",
   "execution_count": 8,
   "metadata": {
    "ExecuteTime": {
     "end_time": "2024-11-12T03:45:09.922691Z",
     "start_time": "2024-11-12T03:44:29.866418Z"
    }
   },
   "outputs": [
    {
     "name": "stdout",
     "output_type": "stream",
     "text": [
      "Fitting 2 folds for each of 15 candidates, totalling 30 fits\n",
      "[CV 1/2] END model__alpha=0.027825594022071243, model__l1_ratio=0.667;, score=0.562 total time=   1.3s\n",
      "[CV 2/2] END model__alpha=0.027825594022071243, model__l1_ratio=0.667;, score=0.524 total time=   1.4s\n",
      "[CV 1/2] END model__alpha=0.5994842503189409, model__l1_ratio=0.667;, score=0.000 total time=   0.4s\n",
      "[CV 2/2] END model__alpha=0.5994842503189409, model__l1_ratio=0.667;, score=0.000 total time=   0.4s\n",
      "[CV 1/2] END model__alpha=0.01, model__l1_ratio=0.223;, score=0.612 total time=   2.0s\n",
      "[CV 2/2] END model__alpha=0.01, model__l1_ratio=0.223;, score=0.609 total time=   2.1s\n",
      "[CV 1/2] END model__alpha=0.1291549665014884, model__l1_ratio=0.556;, score=0.198 total time=   0.7s\n",
      "[CV 2/2] END model__alpha=0.1291549665014884, model__l1_ratio=0.556;, score=0.198 total time=   1.0s\n",
      "[CV 1/2] END model__alpha=0.3593813663804626, model__l1_ratio=0.556;, score=0.000 total time=   0.4s\n",
      "[CV 2/2] END model__alpha=0.3593813663804626, model__l1_ratio=0.556;, score=0.000 total time=   0.4s\n",
      "[CV 1/2] END model__alpha=1.0, model__l1_ratio=0.334;, score=0.000 total time=   0.4s\n",
      "[CV 2/2] END model__alpha=1.0, model__l1_ratio=0.334;, score=0.000 total time=   0.4s\n",
      "[CV 1/2] END model__alpha=0.016681005372000592, model__l1_ratio=0.667;, score=0.556 total time=   1.6s\n",
      "[CV 2/2] END model__alpha=0.016681005372000592, model__l1_ratio=0.667;, score=0.579 total time=   2.6s\n",
      "[CV 1/2] END model__alpha=0.3593813663804626, model__l1_ratio=0.334;, score=0.019 total time=   0.5s\n",
      "[CV 2/2] END model__alpha=0.3593813663804626, model__l1_ratio=0.334;, score=0.087 total time=   0.6s\n",
      "[CV 1/2] END model__alpha=0.1291549665014884, model__l1_ratio=0.445;, score=0.264 total time=   0.8s\n",
      "[CV 2/2] END model__alpha=0.1291549665014884, model__l1_ratio=0.445;, score=0.283 total time=   1.0s\n",
      "[CV 1/2] END model__alpha=1.0, model__l1_ratio=0.556;, score=0.000 total time=   0.4s\n",
      "[CV 2/2] END model__alpha=1.0, model__l1_ratio=0.556;, score=0.000 total time=   0.4s\n",
      "[CV 1/2] END model__alpha=0.1291549665014884, model__l1_ratio=0.334;, score=0.371 total time=   1.0s\n",
      "[CV 2/2] END model__alpha=0.1291549665014884, model__l1_ratio=0.334;, score=0.327 total time=   1.1s\n",
      "[CV 1/2] END model__alpha=1.0, model__l1_ratio=0.223;, score=0.000 total time=   0.4s\n",
      "[CV 2/2] END model__alpha=1.0, model__l1_ratio=0.223;, score=0.000 total time=   0.4s\n",
      "[CV 1/2] END model__alpha=0.3593813663804626, model__l1_ratio=0.889;, score=0.000 total time=   0.4s\n",
      "[CV 2/2] END model__alpha=0.3593813663804626, model__l1_ratio=0.889;, score=0.000 total time=   0.5s\n",
      "[CV 1/2] END model__alpha=0.016681005372000592, model__l1_ratio=0.334;, score=0.612 total time=   1.6s\n",
      "[CV 2/2] END model__alpha=0.016681005372000592, model__l1_ratio=0.334;, score=0.581 total time=   1.8s\n",
      "[CV 1/2] END model__alpha=0.01, model__l1_ratio=0.778;, score=0.567 total time=   4.4s\n",
      "[CV 2/2] END model__alpha=0.01, model__l1_ratio=0.778;, score=0.607 total time=   4.6s\n",
      "Best Parameters: {'model__l1_ratio': 0.223, 'model__alpha': 0.01}\n",
      "Best F1 Score: 0.6107148025367264\n",
      "predictions saved in output/20241111/224509_sgd_random_search_15_iter_stopwords_undersampling_cumulative_sum.csv\n",
      "already same predictions saved in submissions? None\n",
      "already same predictions saved in output?\n",
      "\t output/20241111/204936_sgd_random_search_15_iter_stopwords_undersampling_cumulative_sum.csv\n",
      "\t output/20241111/220006_sgd_random_search_15_iter_stopwords_undersampling_cumulative_sum.csv\n",
      "Number of 0: 1663\n",
      "Number of 1: 693\n",
      "Ratio of 1: 0.29414261460101865\n",
      "Number of differences with bayes classifier submission: 398\n",
      "Ratio of 1 in bayes submission: 0.29499151103565363\n"
     ]
    }
   ],
   "source": [
    "data_preprocess = DataPreprocess()\n",
    "data_preprocess.remove_stopwords()\n",
    "data_preprocess.remove_cum_sum()\n",
    "X_train_undersampled, y_train_undersampled = random_undersampling(data_preprocess.train, data_preprocess.label_train)\n",
    "\n",
    "best_sgd = train_sgd(X_train_undersampled, y_train_undersampled)\n",
    "predictions_voter = best_sgd.predict(data_preprocess.test)\n",
    "save_output(predictions_voter, \"sgd\", \"random_search_15_iter\", \"stopwords_undersampling_cumulative_sum\")"
   ]
  },
  {
   "cell_type": "markdown",
   "metadata": {},
   "source": [
    "# XGBoost\n",
    "Random Search, K-Fold validation croisée stratifiée ($k = 5)$, avec hyperparamètres:\n",
    "- Learning rate: Taille du pas lors de la descente de critère sur la perte (gain de subdivision) \n",
    "- Nombre d'estimateurs (n_estimators): Nombre d'arbres de décision\n",
    "- Profondeur maximale (max_depth): Profondeur maximale de chaque arbre (nombre de branchements max)\n",
    "- sous-échantillon (subsample):  Proportion de données utilisées pour produire chaque arbre.\n",
    "\n",
    "Prétraitement: Retirer stopwords, Réduction par somme cumulative, sous-échantillonage aléatoire"
   ]
  },
  {
   "cell_type": "code",
   "execution_count": 10,
   "metadata": {
    "ExecuteTime": {
     "end_time": "2024-11-12T03:48:53.622990Z",
     "start_time": "2024-11-12T03:47:23.499879Z"
    }
   },
   "outputs": [
    {
     "name": "stdout",
     "output_type": "stream",
     "text": [
      "Fitting 2 folds for each of 15 candidates, totalling 30 fits\n",
      "[CV 1/2] END model__learning_rate=0.0849080237694725, model__max_depth=3, model__n_estimators=400, model__subsample=0.892797576724562;, score=0.635 total time=   2.4s\n",
      "[CV 2/2] END model__learning_rate=0.0849080237694725, model__max_depth=3, model__n_estimators=400, model__subsample=0.892797576724562;, score=0.618 total time=   2.4s\n",
      "[CV 1/2] END model__learning_rate=0.12973169683940733, model__max_depth=7, model__n_estimators=300, model__subsample=0.662397808134481;, score=0.648 total time=   2.8s\n",
      "[CV 2/2] END model__learning_rate=0.12973169683940733, model__max_depth=7, model__n_estimators=300, model__subsample=0.662397808134481;, score=0.642 total time=   3.0s\n",
      "[CV 1/2] END model__learning_rate=0.021616722433639893, model__max_depth=10, model__n_estimators=200, model__subsample=0.8404460046972835;, score=0.615 total time=   2.9s\n",
      "[CV 2/2] END model__learning_rate=0.021616722433639893, model__max_depth=10, model__n_estimators=200, model__subsample=0.8404460046972835;, score=0.602 total time=   2.9s\n",
      "[CV 1/2] END model__learning_rate=0.1516145155592091, model__max_depth=5, model__n_estimators=200, model__subsample=0.9879639408647978;, score=0.624 total time=   1.5s\n",
      "[CV 2/2] END model__learning_rate=0.1516145155592091, model__max_depth=5, model__n_estimators=200, model__subsample=0.9879639408647978;, score=0.627 total time=   1.4s\n",
      "[CV 1/2] END model__learning_rate=0.17648852816008437, model__max_depth=5, model__n_estimators=300, model__subsample=0.6727299868828402;, score=0.647 total time=   2.3s\n",
      "[CV 2/2] END model__learning_rate=0.17648852816008437, model__max_depth=5, model__n_estimators=300, model__subsample=0.6727299868828402;, score=0.632 total time=   2.3s\n",
      "[CV 1/2] END model__learning_rate=0.046680901970686764, model__max_depth=10, model__n_estimators=300, model__subsample=0.8099025726528951;, score=0.644 total time=   3.7s\n",
      "[CV 2/2] END model__learning_rate=0.046680901970686764, model__max_depth=10, model__n_estimators=300, model__subsample=0.8099025726528951;, score=0.643 total time=   3.8s\n",
      "[CV 1/2] END model__learning_rate=0.09638900372842316, model__max_depth=3, model__n_estimators=400, model__subsample=0.8447411578889518;, score=0.630 total time=   2.5s\n",
      "[CV 2/2] END model__learning_rate=0.09638900372842316, model__max_depth=3, model__n_estimators=400, model__subsample=0.8447411578889518;, score=0.624 total time=   2.4s\n",
      "[CV 1/2] END model__learning_rate=0.03789877213040837, model__max_depth=10, model__n_estimators=500, model__subsample=0.7465447373174767;, score=0.647 total time=   5.6s\n",
      "[CV 2/2] END model__learning_rate=0.03789877213040837, model__max_depth=10, model__n_estimators=500, model__subsample=0.7465447373174767;, score=0.638 total time=   5.6s\n",
      "[CV 1/2] END model__learning_rate=0.10121399684340719, model__max_depth=7, model__n_estimators=300, model__subsample=0.6798695128633439;, score=0.646 total time=   2.9s\n",
      "[CV 2/2] END model__learning_rate=0.10121399684340719, model__max_depth=7, model__n_estimators=300, model__subsample=0.6798695128633439;, score=0.645 total time=   2.9s\n",
      "[CV 1/2] END model__learning_rate=0.11284688768272232, model__max_depth=10, model__n_estimators=200, model__subsample=0.6185801650879991;, score=0.640 total time=   2.3s\n",
      "[CV 2/2] END model__learning_rate=0.11284688768272232, model__max_depth=10, model__n_estimators=200, model__subsample=0.6185801650879991;, score=0.633 total time=   2.4s\n",
      "[CV 1/2] END model__learning_rate=0.1315089703802877, model__max_depth=3, model__n_estimators=200, model__subsample=0.6260206371941118;, score=0.621 total time=   1.3s\n",
      "[CV 2/2] END model__learning_rate=0.1315089703802877, model__max_depth=3, model__n_estimators=200, model__subsample=0.6260206371941118;, score=0.611 total time=   1.4s\n",
      "[CV 1/2] END model__learning_rate=0.19977710745066668, model__max_depth=10, model__n_estimators=300, model__subsample=0.9233589392465844;, score=0.641 total time=   3.6s\n",
      "[CV 2/2] END model__learning_rate=0.19977710745066668, model__max_depth=10, model__n_estimators=300, model__subsample=0.9233589392465844;, score=0.629 total time=   3.4s\n",
      "[CV 1/2] END model__learning_rate=0.07092275383467414, model__max_depth=3, model__n_estimators=300, model__subsample=0.8736932106048627;, score=0.616 total time=   1.9s\n",
      "[CV 2/2] END model__learning_rate=0.07092275383467414, model__max_depth=3, model__n_estimators=300, model__subsample=0.8736932106048627;, score=0.606 total time=   1.9s\n",
      "[CV 1/2] END model__learning_rate=0.09803049874792026, model__max_depth=7, model__n_estimators=500, model__subsample=0.798070764044508;, score=0.643 total time=   4.3s\n",
      "[CV 2/2] END model__learning_rate=0.09803049874792026, model__max_depth=7, model__n_estimators=500, model__subsample=0.798070764044508;, score=0.643 total time=   4.5s\n",
      "[CV 1/2] END model__learning_rate=0.01687770422304368, model__max_depth=5, model__n_estimators=200, model__subsample=0.7035119926400067;, score=0.505 total time=   2.1s\n",
      "[CV 2/2] END model__learning_rate=0.01687770422304368, model__max_depth=5, model__n_estimators=200, model__subsample=0.7035119926400067;, score=0.522 total time=   1.8s\n",
      "Best Parameters: {'model__learning_rate': 0.10121399684340719, 'model__max_depth': 7, 'model__n_estimators': 300, 'model__subsample': 0.6798695128633439}\n",
      "Best F1 Score: 0.6457448773146774\n",
      "predictions saved in output/20241111/224853_xgboost_random_search_15_iter_stopwords_undersampling_cumulative_sum.csv\n",
      "already same predictions saved in submissions? None\n",
      "already same predictions saved in output?\n",
      "\t None\n",
      "Number of 0: 1688\n",
      "Number of 1: 668\n",
      "Ratio of 1: 0.2835314091680815\n",
      "Number of differences with bayes classifier submission: 359\n",
      "Ratio of 1 in bayes submission: 0.29499151103565363\n"
     ]
    }
   ],
   "source": [
    "data_preprocess = DataPreprocess()\n",
    "data_preprocess.remove_stopwords()\n",
    "data_preprocess.remove_cum_sum()\n",
    "X_train_undersampled, y_train_undersampled = random_undersampling(data_preprocess.train, data_preprocess.label_train)\n",
    "\n",
    "xgboost_classifier = train_xgboost(X_train_undersampled, y_train_undersampled)\n",
    "predictions = xgboost_classifier.predict(data_preprocess.test)\n",
    "save_output(predictions, \"xgboost\", \"random_search_15_iter\", \"stopwords_undersampling_cumulative_sum\")"
   ]
  },
  {
   "cell_type": "markdown",
   "metadata": {},
   "source": [
    "# Apprentissage par ensembles: CNB, XGBoost, Logistic Regression\n",
    "\n",
    "Prétraitement: Retirer stopwords, Réduction par somme cumulative, sous-échantillonage aléatoire"
   ]
  },
  {
   "cell_type": "code",
   "execution_count": 11,
   "metadata": {
    "ExecuteTime": {
     "end_time": "2024-11-12T03:50:02.456654Z",
     "start_time": "2024-11-12T03:48:53.627218Z"
    }
   },
   "outputs": [
    {
     "name": "stdout",
     "output_type": "stream",
     "text": [
      "Fitting 2 folds for each of 1 candidates, totalling 2 fits\n",
      "[CV 1/2] END ...model__alpha=0.3851694527491273;, score=0.689 total time=   0.1s\n",
      "[CV 2/2] END ...model__alpha=0.3851694527491273;, score=0.678 total time=   0.1s\n",
      "Best F1 for ComplementNB: 0.6837390151836877\n",
      "Confusion Matrix - Fold 1:\n",
      "[[1028  397]\n",
      " [ 227  692]]\n",
      "\n",
      "Confusion Matrix - Fold 2:\n",
      "[[1011  414]\n",
      " [ 235  684]]\n",
      "\n",
      "Fitting 2 folds for each of 1 candidates, totalling 2 fits\n"
     ]
    },
    {
     "name": "stderr",
     "output_type": "stream",
     "text": [
      "/home/ggenois/anaconda3/envs/rapids-24.08/lib/python3.9/site-packages/xgboost/core.py:158: UserWarning: [22:48:55] WARNING: /home/conda/feedstock_root/build_artifacts/xgboost-split_1722516643542/work/src/learner.cc:740: \n",
      "Parameters: { \"use_label_encoder\" } are not used.\n",
      "\n",
      "  warnings.warn(smsg, UserWarning)\n"
     ]
    },
    {
     "name": "stdout",
     "output_type": "stream",
     "text": [
      "[CV 1/2] END model__learning_rate=0.11976270078546496, model__max_depth=5, model__n_estimators=200, model__subsample=0.8411053504286575;, score=0.625 total time=   1.3s\n"
     ]
    },
    {
     "name": "stderr",
     "output_type": "stream",
     "text": [
      "/home/ggenois/anaconda3/envs/rapids-24.08/lib/python3.9/site-packages/xgboost/core.py:158: UserWarning: [22:48:56] WARNING: /home/conda/feedstock_root/build_artifacts/xgboost-split_1722516643542/work/src/learner.cc:740: \n",
      "Parameters: { \"use_label_encoder\" } are not used.\n",
      "\n",
      "  warnings.warn(smsg, UserWarning)\n"
     ]
    },
    {
     "name": "stdout",
     "output_type": "stream",
     "text": [
      "[CV 2/2] END model__learning_rate=0.11976270078546496, model__max_depth=5, model__n_estimators=200, model__subsample=0.8411053504286575;, score=0.622 total time=   1.2s\n"
     ]
    },
    {
     "name": "stderr",
     "output_type": "stream",
     "text": [
      "/home/ggenois/anaconda3/envs/rapids-24.08/lib/python3.9/site-packages/xgboost/core.py:158: UserWarning: [22:48:57] WARNING: /home/conda/feedstock_root/build_artifacts/xgboost-split_1722516643542/work/src/learner.cc:740: \n",
      "Parameters: { \"use_label_encoder\" } are not used.\n",
      "\n",
      "  warnings.warn(smsg, UserWarning)\n"
     ]
    },
    {
     "name": "stdout",
     "output_type": "stream",
     "text": [
      "Best F1 for XGBClassifier: 0.6235194453044464\n"
     ]
    },
    {
     "name": "stderr",
     "output_type": "stream",
     "text": [
      "/home/ggenois/anaconda3/envs/rapids-24.08/lib/python3.9/site-packages/xgboost/core.py:158: UserWarning: [22:49:00] WARNING: /home/conda/feedstock_root/build_artifacts/xgboost-split_1722516643542/work/src/learner.cc:740: \n",
      "Parameters: { \"use_label_encoder\" } are not used.\n",
      "\n",
      "  warnings.warn(smsg, UserWarning)\n",
      "/home/ggenois/anaconda3/envs/rapids-24.08/lib/python3.9/site-packages/xgboost/core.py:158: UserWarning: [22:49:01] WARNING: /home/conda/feedstock_root/build_artifacts/xgboost-split_1722516643542/work/src/learner.cc:740: \n",
      "Parameters: { \"use_label_encoder\" } are not used.\n",
      "\n",
      "  warnings.warn(smsg, UserWarning)\n"
     ]
    },
    {
     "name": "stdout",
     "output_type": "stream",
     "text": [
      "Confusion Matrix - Fold 1:\n",
      "[[1176  249]\n",
      " [ 388  531]]\n",
      "\n",
      "Confusion Matrix - Fold 2:\n",
      "[[1152  273]\n",
      " [ 381  538]]\n",
      "\n",
      "Fitting 2 folds for each of 1 candidates, totalling 2 fits\n",
      "[CV 1/2] END model__C=5.588135039273247, model__penalty=l1, model__solver=liblinear;, score=0.614 total time=   0.1s\n",
      "[CV 2/2] END model__C=5.588135039273247, model__penalty=l1, model__solver=liblinear;, score=0.607 total time=   0.1s\n",
      "Best F1 for LogisticRegression: 0.610803580621378\n",
      "Confusion Matrix - Fold 1:\n",
      "[[1063  362]\n",
      " [ 351  568]]\n",
      "\n",
      "Confusion Matrix - Fold 2:\n",
      "[[1071  354]\n",
      " [ 364  555]]\n",
      "\n"
     ]
    },
    {
     "name": "stderr",
     "output_type": "stream",
     "text": [
      "/home/ggenois/anaconda3/envs/rapids-24.08/lib/python3.9/site-packages/xgboost/core.py:158: UserWarning: [22:49:03] WARNING: /home/conda/feedstock_root/build_artifacts/xgboost-split_1722516643542/work/src/learner.cc:740: \n",
      "Parameters: { \"use_label_encoder\" } are not used.\n",
      "\n",
      "  warnings.warn(smsg, UserWarning)\n"
     ]
    },
    {
     "name": "stdout",
     "output_type": "stream",
     "text": [
      "Fitting 2 folds for each of 1 candidates, totalling 2 fits\n",
      "[CV 1/2] END ...model__alpha=0.3851694527491273;, score=0.676 total time=   0.1s\n",
      "[CV 2/2] END ...model__alpha=0.3851694527491273;, score=0.687 total time=   0.1s\n",
      "Best F1 for ComplementNB: 0.6813773125608569\n",
      "Confusion Matrix - Fold 1:\n",
      "[[984 441]\n",
      " [225 694]]\n",
      "\n",
      "Confusion Matrix - Fold 2:\n",
      "[[1031  394]\n",
      " [ 232  687]]\n",
      "\n",
      "Fitting 2 folds for each of 1 candidates, totalling 2 fits\n"
     ]
    },
    {
     "name": "stderr",
     "output_type": "stream",
     "text": [
      "/home/ggenois/anaconda3/envs/rapids-24.08/lib/python3.9/site-packages/xgboost/core.py:158: UserWarning: [22:49:06] WARNING: /home/conda/feedstock_root/build_artifacts/xgboost-split_1722516643542/work/src/learner.cc:740: \n",
      "Parameters: { \"use_label_encoder\" } are not used.\n",
      "\n",
      "  warnings.warn(smsg, UserWarning)\n"
     ]
    },
    {
     "name": "stdout",
     "output_type": "stream",
     "text": [
      "[CV 1/2] END model__learning_rate=0.11976270078546496, model__max_depth=5, model__n_estimators=200, model__subsample=0.8411053504286575;, score=0.626 total time=   1.3s\n"
     ]
    },
    {
     "name": "stderr",
     "output_type": "stream",
     "text": [
      "/home/ggenois/anaconda3/envs/rapids-24.08/lib/python3.9/site-packages/xgboost/core.py:158: UserWarning: [22:49:07] WARNING: /home/conda/feedstock_root/build_artifacts/xgboost-split_1722516643542/work/src/learner.cc:740: \n",
      "Parameters: { \"use_label_encoder\" } are not used.\n",
      "\n",
      "  warnings.warn(smsg, UserWarning)\n"
     ]
    },
    {
     "name": "stdout",
     "output_type": "stream",
     "text": [
      "[CV 2/2] END model__learning_rate=0.11976270078546496, model__max_depth=5, model__n_estimators=200, model__subsample=0.8411053504286575;, score=0.614 total time=   1.2s\n"
     ]
    },
    {
     "name": "stderr",
     "output_type": "stream",
     "text": [
      "/home/ggenois/anaconda3/envs/rapids-24.08/lib/python3.9/site-packages/xgboost/core.py:158: UserWarning: [22:49:08] WARNING: /home/conda/feedstock_root/build_artifacts/xgboost-split_1722516643542/work/src/learner.cc:740: \n",
      "Parameters: { \"use_label_encoder\" } are not used.\n",
      "\n",
      "  warnings.warn(smsg, UserWarning)\n"
     ]
    },
    {
     "name": "stdout",
     "output_type": "stream",
     "text": [
      "Best F1 for XGBClassifier: 0.6201772694734053\n"
     ]
    },
    {
     "name": "stderr",
     "output_type": "stream",
     "text": [
      "/home/ggenois/anaconda3/envs/rapids-24.08/lib/python3.9/site-packages/xgboost/core.py:158: UserWarning: [22:49:10] WARNING: /home/conda/feedstock_root/build_artifacts/xgboost-split_1722516643542/work/src/learner.cc:740: \n",
      "Parameters: { \"use_label_encoder\" } are not used.\n",
      "\n",
      "  warnings.warn(smsg, UserWarning)\n",
      "/home/ggenois/anaconda3/envs/rapids-24.08/lib/python3.9/site-packages/xgboost/core.py:158: UserWarning: [22:49:12] WARNING: /home/conda/feedstock_root/build_artifacts/xgboost-split_1722516643542/work/src/learner.cc:740: \n",
      "Parameters: { \"use_label_encoder\" } are not used.\n",
      "\n",
      "  warnings.warn(smsg, UserWarning)\n"
     ]
    },
    {
     "name": "stdout",
     "output_type": "stream",
     "text": [
      "Confusion Matrix - Fold 1:\n",
      "[[1163  262]\n",
      " [ 381  538]]\n",
      "\n",
      "Confusion Matrix - Fold 2:\n",
      "[[1142  283]\n",
      " [ 386  533]]\n",
      "\n",
      "Fitting 2 folds for each of 1 candidates, totalling 2 fits\n",
      "[CV 1/2] END model__C=5.588135039273247, model__penalty=l1, model__solver=liblinear;, score=0.609 total time=   0.1s\n",
      "[CV 2/2] END model__C=5.588135039273247, model__penalty=l1, model__solver=liblinear;, score=0.571 total time=   0.1s\n",
      "Best F1 for LogisticRegression: 0.5900256346043851\n",
      "Confusion Matrix - Fold 1:\n",
      "[[1052  373]\n",
      " [ 353  566]]\n",
      "\n",
      "Confusion Matrix - Fold 2:\n",
      "[[1058  367]\n",
      " [ 405  514]]\n",
      "\n"
     ]
    },
    {
     "name": "stderr",
     "output_type": "stream",
     "text": [
      "/home/ggenois/anaconda3/envs/rapids-24.08/lib/python3.9/site-packages/xgboost/core.py:158: UserWarning: [22:49:14] WARNING: /home/conda/feedstock_root/build_artifacts/xgboost-split_1722516643542/work/src/learner.cc:740: \n",
      "Parameters: { \"use_label_encoder\" } are not used.\n",
      "\n",
      "  warnings.warn(smsg, UserWarning)\n"
     ]
    },
    {
     "name": "stdout",
     "output_type": "stream",
     "text": [
      "Fitting 2 folds for each of 1 candidates, totalling 2 fits\n",
      "[CV 1/2] END ...model__alpha=0.3851694527491273;, score=0.682 total time=   0.1s\n",
      "[CV 2/2] END ...model__alpha=0.3851694527491273;, score=0.701 total time=   0.1s\n",
      "Best F1 for ComplementNB: 0.6911274834395083\n",
      "Confusion Matrix - Fold 1:\n",
      "[[1019  406]\n",
      " [ 234  685]]\n",
      "\n",
      "Confusion Matrix - Fold 2:\n",
      "[[1070  355]\n",
      " [ 232  687]]\n",
      "\n",
      "Fitting 2 folds for each of 1 candidates, totalling 2 fits\n"
     ]
    },
    {
     "name": "stderr",
     "output_type": "stream",
     "text": [
      "/home/ggenois/anaconda3/envs/rapids-24.08/lib/python3.9/site-packages/xgboost/core.py:158: UserWarning: [22:49:16] WARNING: /home/conda/feedstock_root/build_artifacts/xgboost-split_1722516643542/work/src/learner.cc:740: \n",
      "Parameters: { \"use_label_encoder\" } are not used.\n",
      "\n",
      "  warnings.warn(smsg, UserWarning)\n"
     ]
    },
    {
     "name": "stdout",
     "output_type": "stream",
     "text": [
      "[CV 1/2] END model__learning_rate=0.11976270078546496, model__max_depth=5, model__n_estimators=200, model__subsample=0.8411053504286575;, score=0.616 total time=   1.3s\n"
     ]
    },
    {
     "name": "stderr",
     "output_type": "stream",
     "text": [
      "/home/ggenois/anaconda3/envs/rapids-24.08/lib/python3.9/site-packages/xgboost/core.py:158: UserWarning: [22:49:18] WARNING: /home/conda/feedstock_root/build_artifacts/xgboost-split_1722516643542/work/src/learner.cc:740: \n",
      "Parameters: { \"use_label_encoder\" } are not used.\n",
      "\n",
      "  warnings.warn(smsg, UserWarning)\n"
     ]
    },
    {
     "name": "stdout",
     "output_type": "stream",
     "text": [
      "[CV 2/2] END model__learning_rate=0.11976270078546496, model__max_depth=5, model__n_estimators=200, model__subsample=0.8411053504286575;, score=0.613 total time=   1.3s\n"
     ]
    },
    {
     "name": "stderr",
     "output_type": "stream",
     "text": [
      "/home/ggenois/anaconda3/envs/rapids-24.08/lib/python3.9/site-packages/xgboost/core.py:158: UserWarning: [22:49:19] WARNING: /home/conda/feedstock_root/build_artifacts/xgboost-split_1722516643542/work/src/learner.cc:740: \n",
      "Parameters: { \"use_label_encoder\" } are not used.\n",
      "\n",
      "  warnings.warn(smsg, UserWarning)\n"
     ]
    },
    {
     "name": "stdout",
     "output_type": "stream",
     "text": [
      "Best F1 for XGBClassifier: 0.6141594581826888\n"
     ]
    },
    {
     "name": "stderr",
     "output_type": "stream",
     "text": [
      "/home/ggenois/anaconda3/envs/rapids-24.08/lib/python3.9/site-packages/xgboost/core.py:158: UserWarning: [22:49:21] WARNING: /home/conda/feedstock_root/build_artifacts/xgboost-split_1722516643542/work/src/learner.cc:740: \n",
      "Parameters: { \"use_label_encoder\" } are not used.\n",
      "\n",
      "  warnings.warn(smsg, UserWarning)\n",
      "/home/ggenois/anaconda3/envs/rapids-24.08/lib/python3.9/site-packages/xgboost/core.py:158: UserWarning: [22:49:23] WARNING: /home/conda/feedstock_root/build_artifacts/xgboost-split_1722516643542/work/src/learner.cc:740: \n",
      "Parameters: { \"use_label_encoder\" } are not used.\n",
      "\n",
      "  warnings.warn(smsg, UserWarning)\n"
     ]
    },
    {
     "name": "stdout",
     "output_type": "stream",
     "text": [
      "Confusion Matrix - Fold 1:\n",
      "[[1139  286]\n",
      " [ 383  536]]\n",
      "\n",
      "Confusion Matrix - Fold 2:\n",
      "[[1164  261]\n",
      " [ 398  521]]\n",
      "\n",
      "Fitting 2 folds for each of 1 candidates, totalling 2 fits\n",
      "[CV 1/2] END model__C=5.588135039273247, model__penalty=l1, model__solver=liblinear;, score=0.611 total time=   0.1s\n",
      "[CV 2/2] END model__C=5.588135039273247, model__penalty=l1, model__solver=liblinear;, score=0.576 total time=   0.1s\n",
      "Best F1 for LogisticRegression: 0.5936256215233078\n",
      "Confusion Matrix - Fold 1:\n",
      "[[1049  376]\n",
      " [ 349  570]]\n",
      "\n",
      "Confusion Matrix - Fold 2:\n",
      "[[1051  374]\n",
      " [ 396  523]]\n",
      "\n"
     ]
    },
    {
     "name": "stderr",
     "output_type": "stream",
     "text": [
      "/home/ggenois/anaconda3/envs/rapids-24.08/lib/python3.9/site-packages/xgboost/core.py:158: UserWarning: [22:49:24] WARNING: /home/conda/feedstock_root/build_artifacts/xgboost-split_1722516643542/work/src/learner.cc:740: \n",
      "Parameters: { \"use_label_encoder\" } are not used.\n",
      "\n",
      "  warnings.warn(smsg, UserWarning)\n"
     ]
    },
    {
     "name": "stdout",
     "output_type": "stream",
     "text": [
      "Fitting 2 folds for each of 1 candidates, totalling 2 fits\n",
      "[CV 1/2] END ...model__alpha=0.3851694527491273;, score=0.695 total time=   0.1s\n",
      "[CV 2/2] END ...model__alpha=0.3851694527491273;, score=0.685 total time=   0.1s\n",
      "Best F1 for ComplementNB: 0.6897205813831147\n",
      "Confusion Matrix - Fold 1:\n",
      "[[1048  376]\n",
      " [ 230  690]]\n",
      "\n",
      "Confusion Matrix - Fold 2:\n",
      "[[1022  403]\n",
      " [ 231  688]]\n",
      "\n",
      "Fitting 2 folds for each of 1 candidates, totalling 2 fits\n"
     ]
    },
    {
     "name": "stderr",
     "output_type": "stream",
     "text": [
      "/home/ggenois/anaconda3/envs/rapids-24.08/lib/python3.9/site-packages/xgboost/core.py:158: UserWarning: [22:49:27] WARNING: /home/conda/feedstock_root/build_artifacts/xgboost-split_1722516643542/work/src/learner.cc:740: \n",
      "Parameters: { \"use_label_encoder\" } are not used.\n",
      "\n",
      "  warnings.warn(smsg, UserWarning)\n"
     ]
    },
    {
     "name": "stdout",
     "output_type": "stream",
     "text": [
      "[CV 1/2] END model__learning_rate=0.11976270078546496, model__max_depth=5, model__n_estimators=200, model__subsample=0.8411053504286575;, score=0.627 total time=   1.5s\n"
     ]
    },
    {
     "name": "stderr",
     "output_type": "stream",
     "text": [
      "/home/ggenois/anaconda3/envs/rapids-24.08/lib/python3.9/site-packages/xgboost/core.py:158: UserWarning: [22:49:29] WARNING: /home/conda/feedstock_root/build_artifacts/xgboost-split_1722516643542/work/src/learner.cc:740: \n",
      "Parameters: { \"use_label_encoder\" } are not used.\n",
      "\n",
      "  warnings.warn(smsg, UserWarning)\n"
     ]
    },
    {
     "name": "stdout",
     "output_type": "stream",
     "text": [
      "[CV 2/2] END model__learning_rate=0.11976270078546496, model__max_depth=5, model__n_estimators=200, model__subsample=0.8411053504286575;, score=0.613 total time=   1.2s\n"
     ]
    },
    {
     "name": "stderr",
     "output_type": "stream",
     "text": [
      "/home/ggenois/anaconda3/envs/rapids-24.08/lib/python3.9/site-packages/xgboost/core.py:158: UserWarning: [22:49:30] WARNING: /home/conda/feedstock_root/build_artifacts/xgboost-split_1722516643542/work/src/learner.cc:740: \n",
      "Parameters: { \"use_label_encoder\" } are not used.\n",
      "\n",
      "  warnings.warn(smsg, UserWarning)\n"
     ]
    },
    {
     "name": "stdout",
     "output_type": "stream",
     "text": [
      "Best F1 for XGBClassifier: 0.6198774367553173\n"
     ]
    },
    {
     "name": "stderr",
     "output_type": "stream",
     "text": [
      "/home/ggenois/anaconda3/envs/rapids-24.08/lib/python3.9/site-packages/xgboost/core.py:158: UserWarning: [22:49:32] WARNING: /home/conda/feedstock_root/build_artifacts/xgboost-split_1722516643542/work/src/learner.cc:740: \n",
      "Parameters: { \"use_label_encoder\" } are not used.\n",
      "\n",
      "  warnings.warn(smsg, UserWarning)\n",
      "/home/ggenois/anaconda3/envs/rapids-24.08/lib/python3.9/site-packages/xgboost/core.py:158: UserWarning: [22:49:34] WARNING: /home/conda/feedstock_root/build_artifacts/xgboost-split_1722516643542/work/src/learner.cc:740: \n",
      "Parameters: { \"use_label_encoder\" } are not used.\n",
      "\n",
      "  warnings.warn(smsg, UserWarning)\n"
     ]
    },
    {
     "name": "stdout",
     "output_type": "stream",
     "text": [
      "Confusion Matrix - Fold 1:\n",
      "[[1161  263]\n",
      " [ 380  540]]\n",
      "\n",
      "Confusion Matrix - Fold 2:\n",
      "[[1165  260]\n",
      " [ 398  521]]\n",
      "\n",
      "Fitting 2 folds for each of 1 candidates, totalling 2 fits\n",
      "[CV 1/2] END model__C=5.588135039273247, model__penalty=l1, model__solver=liblinear;, score=0.614 total time=   0.1s\n",
      "[CV 2/2] END model__C=5.588135039273247, model__penalty=l1, model__solver=liblinear;, score=0.590 total time=   0.1s\n",
      "Best F1 for LogisticRegression: 0.6021585839517554\n",
      "Confusion Matrix - Fold 1:\n",
      "[[1065  359]\n",
      " [ 354  566]]\n",
      "\n",
      "Confusion Matrix - Fold 2:\n",
      "[[1062  363]\n",
      " [ 382  537]]\n",
      "\n"
     ]
    },
    {
     "name": "stderr",
     "output_type": "stream",
     "text": [
      "/home/ggenois/anaconda3/envs/rapids-24.08/lib/python3.9/site-packages/xgboost/core.py:158: UserWarning: [22:49:36] WARNING: /home/conda/feedstock_root/build_artifacts/xgboost-split_1722516643542/work/src/learner.cc:740: \n",
      "Parameters: { \"use_label_encoder\" } are not used.\n",
      "\n",
      "  warnings.warn(smsg, UserWarning)\n"
     ]
    },
    {
     "name": "stdout",
     "output_type": "stream",
     "text": [
      "Fitting 2 folds for each of 1 candidates, totalling 2 fits\n",
      "[CV 1/2] END ...model__alpha=0.3851694527491273;, score=0.682 total time=   0.1s\n",
      "[CV 2/2] END ...model__alpha=0.3851694527491273;, score=0.693 total time=   0.1s\n",
      "Best F1 for ComplementNB: 0.6876064518070476\n",
      "Confusion Matrix - Fold 1:\n",
      "[[1087  337]\n",
      " [ 269  651]]\n",
      "\n",
      "Confusion Matrix - Fold 2:\n",
      "[[978 447]\n",
      " [195 724]]\n",
      "\n",
      "Fitting 2 folds for each of 1 candidates, totalling 2 fits\n"
     ]
    },
    {
     "name": "stderr",
     "output_type": "stream",
     "text": [
      "/home/ggenois/anaconda3/envs/rapids-24.08/lib/python3.9/site-packages/xgboost/core.py:158: UserWarning: [22:49:39] WARNING: /home/conda/feedstock_root/build_artifacts/xgboost-split_1722516643542/work/src/learner.cc:740: \n",
      "Parameters: { \"use_label_encoder\" } are not used.\n",
      "\n",
      "  warnings.warn(smsg, UserWarning)\n"
     ]
    },
    {
     "name": "stdout",
     "output_type": "stream",
     "text": [
      "[CV 1/2] END model__learning_rate=0.11976270078546496, model__max_depth=5, model__n_estimators=200, model__subsample=0.8411053504286575;, score=0.612 total time=   1.2s\n"
     ]
    },
    {
     "name": "stderr",
     "output_type": "stream",
     "text": [
      "/home/ggenois/anaconda3/envs/rapids-24.08/lib/python3.9/site-packages/xgboost/core.py:158: UserWarning: [22:49:40] WARNING: /home/conda/feedstock_root/build_artifacts/xgboost-split_1722516643542/work/src/learner.cc:740: \n",
      "Parameters: { \"use_label_encoder\" } are not used.\n",
      "\n",
      "  warnings.warn(smsg, UserWarning)\n"
     ]
    },
    {
     "name": "stdout",
     "output_type": "stream",
     "text": [
      "[CV 2/2] END model__learning_rate=0.11976270078546496, model__max_depth=5, model__n_estimators=200, model__subsample=0.8411053504286575;, score=0.620 total time=   1.2s\n"
     ]
    },
    {
     "name": "stderr",
     "output_type": "stream",
     "text": [
      "/home/ggenois/anaconda3/envs/rapids-24.08/lib/python3.9/site-packages/xgboost/core.py:158: UserWarning: [22:49:41] WARNING: /home/conda/feedstock_root/build_artifacts/xgboost-split_1722516643542/work/src/learner.cc:740: \n",
      "Parameters: { \"use_label_encoder\" } are not used.\n",
      "\n",
      "  warnings.warn(smsg, UserWarning)\n"
     ]
    },
    {
     "name": "stdout",
     "output_type": "stream",
     "text": [
      "Best F1 for XGBClassifier: 0.6160634973297516\n"
     ]
    },
    {
     "name": "stderr",
     "output_type": "stream",
     "text": [
      "/home/ggenois/anaconda3/envs/rapids-24.08/lib/python3.9/site-packages/xgboost/core.py:158: UserWarning: [22:49:43] WARNING: /home/conda/feedstock_root/build_artifacts/xgboost-split_1722516643542/work/src/learner.cc:740: \n",
      "Parameters: { \"use_label_encoder\" } are not used.\n",
      "\n",
      "  warnings.warn(smsg, UserWarning)\n",
      "/home/ggenois/anaconda3/envs/rapids-24.08/lib/python3.9/site-packages/xgboost/core.py:158: UserWarning: [22:49:44] WARNING: /home/conda/feedstock_root/build_artifacts/xgboost-split_1722516643542/work/src/learner.cc:740: \n",
      "Parameters: { \"use_label_encoder\" } are not used.\n",
      "\n",
      "  warnings.warn(smsg, UserWarning)\n"
     ]
    },
    {
     "name": "stdout",
     "output_type": "stream",
     "text": [
      "Confusion Matrix - Fold 1:\n",
      "[[1181  243]\n",
      " [ 407  513]]\n",
      "\n",
      "Confusion Matrix - Fold 2:\n",
      "[[1113  312]\n",
      " [ 366  553]]\n",
      "\n",
      "Fitting 2 folds for each of 1 candidates, totalling 2 fits\n",
      "[CV 1/2] END model__C=5.588135039273247, model__penalty=l1, model__solver=liblinear;, score=0.601 total time=   0.1s\n",
      "[CV 2/2] END model__C=5.588135039273247, model__penalty=l1, model__solver=liblinear;, score=0.601 total time=   0.1s\n",
      "Best F1 for LogisticRegression: 0.6009757736912547\n",
      "Confusion Matrix - Fold 1:\n",
      "[[1076  348]\n",
      " [ 375  545]]\n",
      "\n",
      "Confusion Matrix - Fold 2:\n",
      "[[1035  390]\n",
      " [ 357  562]]\n",
      "\n"
     ]
    },
    {
     "name": "stderr",
     "output_type": "stream",
     "text": [
      "/home/ggenois/anaconda3/envs/rapids-24.08/lib/python3.9/site-packages/xgboost/core.py:158: UserWarning: [22:49:46] WARNING: /home/conda/feedstock_root/build_artifacts/xgboost-split_1722516643542/work/src/learner.cc:740: \n",
      "Parameters: { \"use_label_encoder\" } are not used.\n",
      "\n",
      "  warnings.warn(smsg, UserWarning)\n"
     ]
    },
    {
     "name": "stdout",
     "output_type": "stream",
     "text": [
      "Score F1 de validation du voteur:  0.6819091690445443\n",
      "Fitting 2 folds for each of 1 candidates, totalling 2 fits\n",
      "[CV 1/2] END ...model__alpha=0.3851694527491273;, score=0.694 total time=   0.1s\n",
      "[CV 2/2] END ...model__alpha=0.3851694527491273;, score=0.685 total time=   0.1s\n",
      "Best F1 for ComplementNB: 0.6895566521985158\n",
      "Confusion Matrix - Fold 1:\n",
      "[[1329  452]\n",
      " [ 298  851]]\n",
      "\n",
      "Confusion Matrix - Fold 2:\n",
      "[[1279  502]\n",
      " [ 289  860]]\n",
      "\n",
      "Fitting 2 folds for each of 1 candidates, totalling 2 fits\n"
     ]
    },
    {
     "name": "stderr",
     "output_type": "stream",
     "text": [
      "/home/ggenois/anaconda3/envs/rapids-24.08/lib/python3.9/site-packages/xgboost/core.py:158: UserWarning: [22:49:49] WARNING: /home/conda/feedstock_root/build_artifacts/xgboost-split_1722516643542/work/src/learner.cc:740: \n",
      "Parameters: { \"use_label_encoder\" } are not used.\n",
      "\n",
      "  warnings.warn(smsg, UserWarning)\n"
     ]
    },
    {
     "name": "stdout",
     "output_type": "stream",
     "text": [
      "[CV 1/2] END model__learning_rate=0.11976270078546496, model__max_depth=5, model__n_estimators=200, model__subsample=0.8411053504286575;, score=0.630 total time=   1.6s\n"
     ]
    },
    {
     "name": "stderr",
     "output_type": "stream",
     "text": [
      "/home/ggenois/anaconda3/envs/rapids-24.08/lib/python3.9/site-packages/xgboost/core.py:158: UserWarning: [22:49:51] WARNING: /home/conda/feedstock_root/build_artifacts/xgboost-split_1722516643542/work/src/learner.cc:740: \n",
      "Parameters: { \"use_label_encoder\" } are not used.\n",
      "\n",
      "  warnings.warn(smsg, UserWarning)\n"
     ]
    },
    {
     "name": "stdout",
     "output_type": "stream",
     "text": [
      "[CV 2/2] END model__learning_rate=0.11976270078546496, model__max_depth=5, model__n_estimators=200, model__subsample=0.8411053504286575;, score=0.635 total time=   1.5s\n"
     ]
    },
    {
     "name": "stderr",
     "output_type": "stream",
     "text": [
      "/home/ggenois/anaconda3/envs/rapids-24.08/lib/python3.9/site-packages/xgboost/core.py:158: UserWarning: [22:49:52] WARNING: /home/conda/feedstock_root/build_artifacts/xgboost-split_1722516643542/work/src/learner.cc:740: \n",
      "Parameters: { \"use_label_encoder\" } are not used.\n",
      "\n",
      "  warnings.warn(smsg, UserWarning)\n"
     ]
    },
    {
     "name": "stdout",
     "output_type": "stream",
     "text": [
      "Best F1 for XGBClassifier: 0.6321269577091664\n"
     ]
    },
    {
     "name": "stderr",
     "output_type": "stream",
     "text": [
      "/home/ggenois/anaconda3/envs/rapids-24.08/lib/python3.9/site-packages/xgboost/core.py:158: UserWarning: [22:49:55] WARNING: /home/conda/feedstock_root/build_artifacts/xgboost-split_1722516643542/work/src/learner.cc:740: \n",
      "Parameters: { \"use_label_encoder\" } are not used.\n",
      "\n",
      "  warnings.warn(smsg, UserWarning)\n",
      "/home/ggenois/anaconda3/envs/rapids-24.08/lib/python3.9/site-packages/xgboost/core.py:158: UserWarning: [22:49:57] WARNING: /home/conda/feedstock_root/build_artifacts/xgboost-split_1722516643542/work/src/learner.cc:740: \n",
      "Parameters: { \"use_label_encoder\" } are not used.\n",
      "\n",
      "  warnings.warn(smsg, UserWarning)\n"
     ]
    },
    {
     "name": "stdout",
     "output_type": "stream",
     "text": [
      "Confusion Matrix - Fold 1:\n",
      "[[1500  281]\n",
      " [ 492  657]]\n",
      "\n",
      "Confusion Matrix - Fold 2:\n",
      "[[1452  329]\n",
      " [ 462  687]]\n",
      "\n",
      "Fitting 2 folds for each of 1 candidates, totalling 2 fits\n",
      "[CV 1/2] END model__C=5.588135039273247, model__penalty=l1, model__solver=liblinear;, score=0.581 total time=   0.1s\n",
      "[CV 2/2] END model__C=5.588135039273247, model__penalty=l1, model__solver=liblinear;, score=0.600 total time=   0.1s\n",
      "Best F1 for LogisticRegression: 0.5907665275877441\n",
      "Confusion Matrix - Fold 1:\n",
      "[[1332  449]\n",
      " [ 494  655]]\n",
      "\n",
      "Confusion Matrix - Fold 2:\n",
      "[[1304  477]\n",
      " [ 452  697]]\n",
      "\n"
     ]
    },
    {
     "name": "stderr",
     "output_type": "stream",
     "text": [
      "/home/ggenois/anaconda3/envs/rapids-24.08/lib/python3.9/site-packages/xgboost/core.py:158: UserWarning: [22:49:59] WARNING: /home/conda/feedstock_root/build_artifacts/xgboost-split_1722516643542/work/src/learner.cc:740: \n",
      "Parameters: { \"use_label_encoder\" } are not used.\n",
      "\n",
      "  warnings.warn(smsg, UserWarning)\n"
     ]
    },
    {
     "name": "stdout",
     "output_type": "stream",
     "text": [
      "predictions saved in output/20241111/225002_ensemble_cnb_xgboost_logreg_random_search_15_iter_stopwords_undersampling_cumulative_sum.csv\n",
      "already same predictions saved in submissions? None\n",
      "already same predictions saved in output?\n",
      "\t output/20241111/155220_ensemble_cnb_xgboost_logreg_random_search_15_iter_stopwords_undersampling_cumulative_sum.csv\n",
      "\t output/20241111/205843_ensemble_cnb_xgboost_logreg_random_search_15_iter_stopwords_undersampling_cumulative_sum.csv\n",
      "Number of 0: 1569\n",
      "Number of 1: 787\n",
      "Ratio of 1: 0.3340407470288625\n",
      "Number of differences with bayes classifier submission: 250\n",
      "Ratio of 1 in bayes submission: 0.29499151103565363\n"
     ]
    }
   ],
   "source": [
    "data_preprocess = DataPreprocess()\n",
    "data_preprocess.remove_stopwords()\n",
    "data_preprocess.remove_cum_sum()\n",
    "X_train_undersampled, y_train_undersampled = random_undersampling(data_preprocess.train, data_preprocess.label_train)\n",
    "\n",
    "kf = StratifiedKFold(n_splits=5, shuffle=True, random_state=42)\n",
    "scores = []\n",
    "model_names = ['ComplementNB', 'XGBoost', 'LogisticRegression']\n",
    "# Validation croisée du voteur\n",
    "for train_index, test_index in kf.split(X_train_undersampled, y_train_undersampled):\n",
    "    # Split données\n",
    "    X_train, X_test = X_train_undersampled[train_index], X_train_undersampled[test_index]\n",
    "    y_train, y_test = y_train_undersampled[train_index], y_train_undersampled[test_index]\n",
    "    best_ensemble_model = train_ensemble(X_train, y_train, model_names)    \n",
    "    y_pred = best_ensemble_model.predict(X_test)\n",
    "    score = f1_score(y_test, y_pred)\n",
    "    scores.append(score)\n",
    "\n",
    "mean_score = np.mean(scores)\n",
    "print(\"Score F1 de validation du voteur: \", mean_score)\n",
    "\n",
    "best_ensemble_model = train_ensemble(X_train_undersampled, y_train_undersampled, model_names)\n",
    "predictions_voter = best_ensemble_model.predict(data_preprocess.test)\n",
    "save_output(predictions_voter, \"ensemble_cnb_xgboost_logreg\", \"random_search_15_iter\", \"stopwords_undersampling_cumulative_sum\")"
   ]
  },
  {
   "attachments": {},
   "cell_type": "markdown",
   "metadata": {},
   "source": [
    "Prétraitement: Retirer stopwords, sous-échantillonage aléatoire"
   ]
  },
  {
   "cell_type": "code",
   "execution_count": 13,
   "metadata": {
    "ExecuteTime": {
     "end_time": "2024-11-12T03:56:08.866238Z",
     "start_time": "2024-11-12T03:53:04.689518Z"
    }
   },
   "outputs": [
    {
     "name": "stdout",
     "output_type": "stream",
     "text": [
      "Fitting 2 folds for each of 1 candidates, totalling 2 fits\n",
      "[CV 1/2] END ...model__alpha=0.3851694527491273;, score=0.682 total time=   0.2s\n",
      "[CV 2/2] END ...model__alpha=0.3851694527491273;, score=0.677 total time=   0.2s\n",
      "Best F1 for ComplementNB: 0.6793106248810417\n",
      "Confusion Matrix - Fold 1:\n",
      "[[1023  402]\n",
      " [ 236  683]]\n",
      "\n",
      "Confusion Matrix - Fold 2:\n",
      "[[1019  406]\n",
      " [ 241  678]]\n",
      "\n",
      "Fitting 2 folds for each of 1 candidates, totalling 2 fits\n"
     ]
    },
    {
     "name": "stderr",
     "output_type": "stream",
     "text": [
      "/home/ggenois/anaconda3/envs/rapids-24.08/lib/python3.9/site-packages/xgboost/core.py:158: UserWarning: [22:53:07] WARNING: /home/conda/feedstock_root/build_artifacts/xgboost-split_1722516643542/work/src/learner.cc:740: \n",
      "Parameters: { \"use_label_encoder\" } are not used.\n",
      "\n",
      "  warnings.warn(smsg, UserWarning)\n"
     ]
    },
    {
     "name": "stdout",
     "output_type": "stream",
     "text": [
      "[CV 1/2] END model__learning_rate=0.11976270078546496, model__max_depth=5, model__n_estimators=200, model__subsample=0.8411053504286575;, score=0.625 total time=   3.4s\n"
     ]
    },
    {
     "name": "stderr",
     "output_type": "stream",
     "text": [
      "/home/ggenois/anaconda3/envs/rapids-24.08/lib/python3.9/site-packages/xgboost/core.py:158: UserWarning: [22:53:11] WARNING: /home/conda/feedstock_root/build_artifacts/xgboost-split_1722516643542/work/src/learner.cc:740: \n",
      "Parameters: { \"use_label_encoder\" } are not used.\n",
      "\n",
      "  warnings.warn(smsg, UserWarning)\n"
     ]
    },
    {
     "name": "stdout",
     "output_type": "stream",
     "text": [
      "[CV 2/2] END model__learning_rate=0.11976270078546496, model__max_depth=5, model__n_estimators=200, model__subsample=0.8411053504286575;, score=0.622 total time=   3.3s\n"
     ]
    },
    {
     "name": "stderr",
     "output_type": "stream",
     "text": [
      "/home/ggenois/anaconda3/envs/rapids-24.08/lib/python3.9/site-packages/xgboost/core.py:158: UserWarning: [22:53:14] WARNING: /home/conda/feedstock_root/build_artifacts/xgboost-split_1722516643542/work/src/learner.cc:740: \n",
      "Parameters: { \"use_label_encoder\" } are not used.\n",
      "\n",
      "  warnings.warn(smsg, UserWarning)\n"
     ]
    },
    {
     "name": "stdout",
     "output_type": "stream",
     "text": [
      "Best F1 for XGBClassifier: 0.6235194453044464\n"
     ]
    },
    {
     "name": "stderr",
     "output_type": "stream",
     "text": [
      "/home/ggenois/anaconda3/envs/rapids-24.08/lib/python3.9/site-packages/xgboost/core.py:158: UserWarning: [22:53:20] WARNING: /home/conda/feedstock_root/build_artifacts/xgboost-split_1722516643542/work/src/learner.cc:740: \n",
      "Parameters: { \"use_label_encoder\" } are not used.\n",
      "\n",
      "  warnings.warn(smsg, UserWarning)\n",
      "/home/ggenois/anaconda3/envs/rapids-24.08/lib/python3.9/site-packages/xgboost/core.py:158: UserWarning: [22:53:24] WARNING: /home/conda/feedstock_root/build_artifacts/xgboost-split_1722516643542/work/src/learner.cc:740: \n",
      "Parameters: { \"use_label_encoder\" } are not used.\n",
      "\n",
      "  warnings.warn(smsg, UserWarning)\n"
     ]
    },
    {
     "name": "stdout",
     "output_type": "stream",
     "text": [
      "Confusion Matrix - Fold 1:\n",
      "[[1176  249]\n",
      " [ 388  531]]\n",
      "\n",
      "Confusion Matrix - Fold 2:\n",
      "[[1152  273]\n",
      " [ 381  538]]\n",
      "\n",
      "Fitting 2 folds for each of 1 candidates, totalling 2 fits\n",
      "[CV 1/2] END model__C=5.588135039273247, model__penalty=l1, model__solver=liblinear;, score=0.602 total time=   0.3s\n",
      "[CV 2/2] END model__C=5.588135039273247, model__penalty=l1, model__solver=liblinear;, score=0.601 total time=   0.3s\n",
      "Best F1 for LogisticRegression: 0.6013638867795298\n",
      "Confusion Matrix - Fold 1:\n",
      "[[1061  364]\n",
      " [ 367  552]]\n",
      "\n",
      "Confusion Matrix - Fold 2:\n",
      "[[1064  361]\n",
      " [ 368  551]]\n",
      "\n"
     ]
    },
    {
     "name": "stderr",
     "output_type": "stream",
     "text": [
      "/home/ggenois/anaconda3/envs/rapids-24.08/lib/python3.9/site-packages/xgboost/core.py:158: UserWarning: [22:53:29] WARNING: /home/conda/feedstock_root/build_artifacts/xgboost-split_1722516643542/work/src/learner.cc:740: \n",
      "Parameters: { \"use_label_encoder\" } are not used.\n",
      "\n",
      "  warnings.warn(smsg, UserWarning)\n"
     ]
    },
    {
     "name": "stdout",
     "output_type": "stream",
     "text": [
      "Fitting 2 folds for each of 1 candidates, totalling 2 fits\n",
      "[CV 1/2] END ...model__alpha=0.3851694527491273;, score=0.669 total time=   0.2s\n",
      "[CV 2/2] END ...model__alpha=0.3851694527491273;, score=0.682 total time=   0.2s\n",
      "Best F1 for ComplementNB: 0.6756226635656272\n",
      "Confusion Matrix - Fold 1:\n",
      "[[980 445]\n",
      " [233 686]]\n",
      "\n",
      "Confusion Matrix - Fold 2:\n",
      "[[1024  401]\n",
      " [ 236  683]]\n",
      "\n",
      "Fitting 2 folds for each of 1 candidates, totalling 2 fits\n"
     ]
    },
    {
     "name": "stderr",
     "output_type": "stream",
     "text": [
      "/home/ggenois/anaconda3/envs/rapids-24.08/lib/python3.9/site-packages/xgboost/core.py:158: UserWarning: [22:53:36] WARNING: /home/conda/feedstock_root/build_artifacts/xgboost-split_1722516643542/work/src/learner.cc:740: \n",
      "Parameters: { \"use_label_encoder\" } are not used.\n",
      "\n",
      "  warnings.warn(smsg, UserWarning)\n"
     ]
    },
    {
     "name": "stdout",
     "output_type": "stream",
     "text": [
      "[CV 1/2] END model__learning_rate=0.11976270078546496, model__max_depth=5, model__n_estimators=200, model__subsample=0.8411053504286575;, score=0.626 total time=   3.4s\n"
     ]
    },
    {
     "name": "stderr",
     "output_type": "stream",
     "text": [
      "/home/ggenois/anaconda3/envs/rapids-24.08/lib/python3.9/site-packages/xgboost/core.py:158: UserWarning: [22:53:40] WARNING: /home/conda/feedstock_root/build_artifacts/xgboost-split_1722516643542/work/src/learner.cc:740: \n",
      "Parameters: { \"use_label_encoder\" } are not used.\n",
      "\n",
      "  warnings.warn(smsg, UserWarning)\n"
     ]
    },
    {
     "name": "stdout",
     "output_type": "stream",
     "text": [
      "[CV 2/2] END model__learning_rate=0.11976270078546496, model__max_depth=5, model__n_estimators=200, model__subsample=0.8411053504286575;, score=0.614 total time=   3.4s\n"
     ]
    },
    {
     "name": "stderr",
     "output_type": "stream",
     "text": [
      "/home/ggenois/anaconda3/envs/rapids-24.08/lib/python3.9/site-packages/xgboost/core.py:158: UserWarning: [22:53:43] WARNING: /home/conda/feedstock_root/build_artifacts/xgboost-split_1722516643542/work/src/learner.cc:740: \n",
      "Parameters: { \"use_label_encoder\" } are not used.\n",
      "\n",
      "  warnings.warn(smsg, UserWarning)\n"
     ]
    },
    {
     "name": "stdout",
     "output_type": "stream",
     "text": [
      "Best F1 for XGBClassifier: 0.6201772694734053\n"
     ]
    },
    {
     "name": "stderr",
     "output_type": "stream",
     "text": [
      "/home/ggenois/anaconda3/envs/rapids-24.08/lib/python3.9/site-packages/xgboost/core.py:158: UserWarning: [22:53:49] WARNING: /home/conda/feedstock_root/build_artifacts/xgboost-split_1722516643542/work/src/learner.cc:740: \n",
      "Parameters: { \"use_label_encoder\" } are not used.\n",
      "\n",
      "  warnings.warn(smsg, UserWarning)\n",
      "/home/ggenois/anaconda3/envs/rapids-24.08/lib/python3.9/site-packages/xgboost/core.py:158: UserWarning: [22:53:52] WARNING: /home/conda/feedstock_root/build_artifacts/xgboost-split_1722516643542/work/src/learner.cc:740: \n",
      "Parameters: { \"use_label_encoder\" } are not used.\n",
      "\n",
      "  warnings.warn(smsg, UserWarning)\n"
     ]
    },
    {
     "name": "stdout",
     "output_type": "stream",
     "text": [
      "Confusion Matrix - Fold 1:\n",
      "[[1163  262]\n",
      " [ 381  538]]\n",
      "\n",
      "Confusion Matrix - Fold 2:\n",
      "[[1142  283]\n",
      " [ 386  533]]\n",
      "\n",
      "Fitting 2 folds for each of 1 candidates, totalling 2 fits\n",
      "[CV 1/2] END model__C=5.588135039273247, model__penalty=l1, model__solver=liblinear;, score=0.614 total time=   0.3s\n",
      "[CV 2/2] END model__C=5.588135039273247, model__penalty=l1, model__solver=liblinear;, score=0.573 total time=   0.3s\n",
      "Best F1 for LogisticRegression: 0.5935799618451705\n",
      "Confusion Matrix - Fold 1:\n",
      "[[1065  360]\n",
      " [ 352  567]]\n",
      "\n",
      "Confusion Matrix - Fold 2:\n",
      "[[1061  364]\n",
      " [ 404  515]]\n",
      "\n"
     ]
    },
    {
     "name": "stderr",
     "output_type": "stream",
     "text": [
      "/home/ggenois/anaconda3/envs/rapids-24.08/lib/python3.9/site-packages/xgboost/core.py:158: UserWarning: [22:53:57] WARNING: /home/conda/feedstock_root/build_artifacts/xgboost-split_1722516643542/work/src/learner.cc:740: \n",
      "Parameters: { \"use_label_encoder\" } are not used.\n",
      "\n",
      "  warnings.warn(smsg, UserWarning)\n"
     ]
    },
    {
     "name": "stdout",
     "output_type": "stream",
     "text": [
      "Fitting 2 folds for each of 1 candidates, totalling 2 fits\n",
      "[CV 1/2] END ...model__alpha=0.3851694527491273;, score=0.676 total time=   0.2s\n",
      "[CV 2/2] END ...model__alpha=0.3851694527491273;, score=0.691 total time=   0.2s\n",
      "Best F1 for ComplementNB: 0.6835443230944545\n",
      "Confusion Matrix - Fold 1:\n",
      "[[1017  408]\n",
      " [ 241  678]]\n",
      "\n",
      "Confusion Matrix - Fold 2:\n",
      "[[1059  366]\n",
      " [ 241  678]]\n",
      "\n",
      "Fitting 2 folds for each of 1 candidates, totalling 2 fits\n"
     ]
    },
    {
     "name": "stderr",
     "output_type": "stream",
     "text": [
      "/home/ggenois/anaconda3/envs/rapids-24.08/lib/python3.9/site-packages/xgboost/core.py:158: UserWarning: [22:54:05] WARNING: /home/conda/feedstock_root/build_artifacts/xgboost-split_1722516643542/work/src/learner.cc:740: \n",
      "Parameters: { \"use_label_encoder\" } are not used.\n",
      "\n",
      "  warnings.warn(smsg, UserWarning)\n"
     ]
    },
    {
     "name": "stdout",
     "output_type": "stream",
     "text": [
      "[CV 1/2] END model__learning_rate=0.11976270078546496, model__max_depth=5, model__n_estimators=200, model__subsample=0.8411053504286575;, score=0.616 total time=   3.4s\n"
     ]
    },
    {
     "name": "stderr",
     "output_type": "stream",
     "text": [
      "/home/ggenois/anaconda3/envs/rapids-24.08/lib/python3.9/site-packages/xgboost/core.py:158: UserWarning: [22:54:08] WARNING: /home/conda/feedstock_root/build_artifacts/xgboost-split_1722516643542/work/src/learner.cc:740: \n",
      "Parameters: { \"use_label_encoder\" } are not used.\n",
      "\n",
      "  warnings.warn(smsg, UserWarning)\n"
     ]
    },
    {
     "name": "stdout",
     "output_type": "stream",
     "text": [
      "[CV 2/2] END model__learning_rate=0.11976270078546496, model__max_depth=5, model__n_estimators=200, model__subsample=0.8411053504286575;, score=0.613 total time=   3.4s\n"
     ]
    },
    {
     "name": "stderr",
     "output_type": "stream",
     "text": [
      "/home/ggenois/anaconda3/envs/rapids-24.08/lib/python3.9/site-packages/xgboost/core.py:158: UserWarning: [22:54:12] WARNING: /home/conda/feedstock_root/build_artifacts/xgboost-split_1722516643542/work/src/learner.cc:740: \n",
      "Parameters: { \"use_label_encoder\" } are not used.\n",
      "\n",
      "  warnings.warn(smsg, UserWarning)\n"
     ]
    },
    {
     "name": "stdout",
     "output_type": "stream",
     "text": [
      "Best F1 for XGBClassifier: 0.6141594581826888\n"
     ]
    },
    {
     "name": "stderr",
     "output_type": "stream",
     "text": [
      "/home/ggenois/anaconda3/envs/rapids-24.08/lib/python3.9/site-packages/xgboost/core.py:158: UserWarning: [22:54:18] WARNING: /home/conda/feedstock_root/build_artifacts/xgboost-split_1722516643542/work/src/learner.cc:740: \n",
      "Parameters: { \"use_label_encoder\" } are not used.\n",
      "\n",
      "  warnings.warn(smsg, UserWarning)\n",
      "/home/ggenois/anaconda3/envs/rapids-24.08/lib/python3.9/site-packages/xgboost/core.py:158: UserWarning: [22:54:21] WARNING: /home/conda/feedstock_root/build_artifacts/xgboost-split_1722516643542/work/src/learner.cc:740: \n",
      "Parameters: { \"use_label_encoder\" } are not used.\n",
      "\n",
      "  warnings.warn(smsg, UserWarning)\n"
     ]
    },
    {
     "name": "stdout",
     "output_type": "stream",
     "text": [
      "Confusion Matrix - Fold 1:\n",
      "[[1139  286]\n",
      " [ 383  536]]\n",
      "\n",
      "Confusion Matrix - Fold 2:\n",
      "[[1164  261]\n",
      " [ 398  521]]\n",
      "\n",
      "Fitting 2 folds for each of 1 candidates, totalling 2 fits\n",
      "[CV 1/2] END model__C=5.588135039273247, model__penalty=l1, model__solver=liblinear;, score=0.599 total time=   0.3s\n",
      "[CV 2/2] END model__C=5.588135039273247, model__penalty=l1, model__solver=liblinear;, score=0.580 total time=   0.3s\n",
      "Best F1 for LogisticRegression: 0.5893871166659146\n",
      "Confusion Matrix - Fold 1:\n",
      "[[1048  377]\n",
      " [ 365  554]]\n",
      "\n",
      "Confusion Matrix - Fold 2:\n",
      "[[1069  356]\n",
      " [ 398  521]]\n",
      "\n"
     ]
    },
    {
     "name": "stderr",
     "output_type": "stream",
     "text": [
      "/home/ggenois/anaconda3/envs/rapids-24.08/lib/python3.9/site-packages/xgboost/core.py:158: UserWarning: [22:54:27] WARNING: /home/conda/feedstock_root/build_artifacts/xgboost-split_1722516643542/work/src/learner.cc:740: \n",
      "Parameters: { \"use_label_encoder\" } are not used.\n",
      "\n",
      "  warnings.warn(smsg, UserWarning)\n"
     ]
    },
    {
     "name": "stdout",
     "output_type": "stream",
     "text": [
      "Fitting 2 folds for each of 1 candidates, totalling 2 fits\n",
      "[CV 1/2] END ...model__alpha=0.3851694527491273;, score=0.691 total time=   0.2s\n",
      "[CV 2/2] END ...model__alpha=0.3851694527491273;, score=0.679 total time=   0.2s\n",
      "Best F1 for ComplementNB: 0.6850886095300368\n",
      "Confusion Matrix - Fold 1:\n",
      "[[1042  382]\n",
      " [ 233  687]]\n",
      "\n",
      "Confusion Matrix - Fold 2:\n",
      "[[1028  397]\n",
      " [ 242  677]]\n",
      "\n",
      "Fitting 2 folds for each of 1 candidates, totalling 2 fits\n"
     ]
    },
    {
     "name": "stderr",
     "output_type": "stream",
     "text": [
      "/home/ggenois/anaconda3/envs/rapids-24.08/lib/python3.9/site-packages/xgboost/core.py:158: UserWarning: [22:54:34] WARNING: /home/conda/feedstock_root/build_artifacts/xgboost-split_1722516643542/work/src/learner.cc:740: \n",
      "Parameters: { \"use_label_encoder\" } are not used.\n",
      "\n",
      "  warnings.warn(smsg, UserWarning)\n"
     ]
    },
    {
     "name": "stdout",
     "output_type": "stream",
     "text": [
      "[CV 1/2] END model__learning_rate=0.11976270078546496, model__max_depth=5, model__n_estimators=200, model__subsample=0.8411053504286575;, score=0.627 total time=   3.5s\n"
     ]
    },
    {
     "name": "stderr",
     "output_type": "stream",
     "text": [
      "/home/ggenois/anaconda3/envs/rapids-24.08/lib/python3.9/site-packages/xgboost/core.py:158: UserWarning: [22:54:38] WARNING: /home/conda/feedstock_root/build_artifacts/xgboost-split_1722516643542/work/src/learner.cc:740: \n",
      "Parameters: { \"use_label_encoder\" } are not used.\n",
      "\n",
      "  warnings.warn(smsg, UserWarning)\n"
     ]
    },
    {
     "name": "stdout",
     "output_type": "stream",
     "text": [
      "[CV 2/2] END model__learning_rate=0.11976270078546496, model__max_depth=5, model__n_estimators=200, model__subsample=0.8411053504286575;, score=0.613 total time=   3.6s\n"
     ]
    },
    {
     "name": "stderr",
     "output_type": "stream",
     "text": [
      "/home/ggenois/anaconda3/envs/rapids-24.08/lib/python3.9/site-packages/xgboost/core.py:158: UserWarning: [22:54:42] WARNING: /home/conda/feedstock_root/build_artifacts/xgboost-split_1722516643542/work/src/learner.cc:740: \n",
      "Parameters: { \"use_label_encoder\" } are not used.\n",
      "\n",
      "  warnings.warn(smsg, UserWarning)\n"
     ]
    },
    {
     "name": "stdout",
     "output_type": "stream",
     "text": [
      "Best F1 for XGBClassifier: 0.6198774367553173\n"
     ]
    },
    {
     "name": "stderr",
     "output_type": "stream",
     "text": [
      "/home/ggenois/anaconda3/envs/rapids-24.08/lib/python3.9/site-packages/xgboost/core.py:158: UserWarning: [22:54:48] WARNING: /home/conda/feedstock_root/build_artifacts/xgboost-split_1722516643542/work/src/learner.cc:740: \n",
      "Parameters: { \"use_label_encoder\" } are not used.\n",
      "\n",
      "  warnings.warn(smsg, UserWarning)\n",
      "/home/ggenois/anaconda3/envs/rapids-24.08/lib/python3.9/site-packages/xgboost/core.py:158: UserWarning: [22:54:52] WARNING: /home/conda/feedstock_root/build_artifacts/xgboost-split_1722516643542/work/src/learner.cc:740: \n",
      "Parameters: { \"use_label_encoder\" } are not used.\n",
      "\n",
      "  warnings.warn(smsg, UserWarning)\n"
     ]
    },
    {
     "name": "stdout",
     "output_type": "stream",
     "text": [
      "Confusion Matrix - Fold 1:\n",
      "[[1161  263]\n",
      " [ 380  540]]\n",
      "\n",
      "Confusion Matrix - Fold 2:\n",
      "[[1165  260]\n",
      " [ 398  521]]\n",
      "\n",
      "Fitting 2 folds for each of 1 candidates, totalling 2 fits\n",
      "[CV 1/2] END model__C=5.588135039273247, model__penalty=l1, model__solver=liblinear;, score=0.613 total time=   0.3s\n",
      "[CV 2/2] END model__C=5.588135039273247, model__penalty=l1, model__solver=liblinear;, score=0.595 total time=   0.3s\n",
      "Best F1 for LogisticRegression: 0.6042498483959207\n",
      "Confusion Matrix - Fold 1:\n",
      "[[1080  344]\n",
      " [ 361  559]]\n",
      "\n",
      "Confusion Matrix - Fold 2:\n",
      "[[1078  347]\n",
      " [ 383  536]]\n",
      "\n"
     ]
    },
    {
     "name": "stderr",
     "output_type": "stream",
     "text": [
      "/home/ggenois/anaconda3/envs/rapids-24.08/lib/python3.9/site-packages/xgboost/core.py:158: UserWarning: [22:54:57] WARNING: /home/conda/feedstock_root/build_artifacts/xgboost-split_1722516643542/work/src/learner.cc:740: \n",
      "Parameters: { \"use_label_encoder\" } are not used.\n",
      "\n",
      "  warnings.warn(smsg, UserWarning)\n"
     ]
    },
    {
     "name": "stdout",
     "output_type": "stream",
     "text": [
      "Fitting 2 folds for each of 1 candidates, totalling 2 fits\n",
      "[CV 1/2] END ...model__alpha=0.3851694527491273;, score=0.683 total time=   0.2s\n",
      "[CV 2/2] END ...model__alpha=0.3851694527491273;, score=0.695 total time=   0.2s\n",
      "Best F1 for ComplementNB: 0.6890146307469143\n",
      "Confusion Matrix - Fold 1:\n",
      "[[1090  334]\n",
      " [ 269  651]]\n",
      "\n",
      "Confusion Matrix - Fold 2:\n",
      "[[987 438]\n",
      " [197 722]]\n",
      "\n",
      "Fitting 2 folds for each of 1 candidates, totalling 2 fits\n"
     ]
    },
    {
     "name": "stderr",
     "output_type": "stream",
     "text": [
      "/home/ggenois/anaconda3/envs/rapids-24.08/lib/python3.9/site-packages/xgboost/core.py:158: UserWarning: [22:55:05] WARNING: /home/conda/feedstock_root/build_artifacts/xgboost-split_1722516643542/work/src/learner.cc:740: \n",
      "Parameters: { \"use_label_encoder\" } are not used.\n",
      "\n",
      "  warnings.warn(smsg, UserWarning)\n"
     ]
    },
    {
     "name": "stdout",
     "output_type": "stream",
     "text": [
      "[CV 1/2] END model__learning_rate=0.11976270078546496, model__max_depth=5, model__n_estimators=200, model__subsample=0.8411053504286575;, score=0.612 total time=   3.6s\n"
     ]
    },
    {
     "name": "stderr",
     "output_type": "stream",
     "text": [
      "/home/ggenois/anaconda3/envs/rapids-24.08/lib/python3.9/site-packages/xgboost/core.py:158: UserWarning: [22:55:08] WARNING: /home/conda/feedstock_root/build_artifacts/xgboost-split_1722516643542/work/src/learner.cc:740: \n",
      "Parameters: { \"use_label_encoder\" } are not used.\n",
      "\n",
      "  warnings.warn(smsg, UserWarning)\n"
     ]
    },
    {
     "name": "stdout",
     "output_type": "stream",
     "text": [
      "[CV 2/2] END model__learning_rate=0.11976270078546496, model__max_depth=5, model__n_estimators=200, model__subsample=0.8411053504286575;, score=0.620 total time=   3.3s\n"
     ]
    },
    {
     "name": "stderr",
     "output_type": "stream",
     "text": [
      "/home/ggenois/anaconda3/envs/rapids-24.08/lib/python3.9/site-packages/xgboost/core.py:158: UserWarning: [22:55:12] WARNING: /home/conda/feedstock_root/build_artifacts/xgboost-split_1722516643542/work/src/learner.cc:740: \n",
      "Parameters: { \"use_label_encoder\" } are not used.\n",
      "\n",
      "  warnings.warn(smsg, UserWarning)\n"
     ]
    },
    {
     "name": "stdout",
     "output_type": "stream",
     "text": [
      "Best F1 for XGBClassifier: 0.6160634973297516\n"
     ]
    },
    {
     "name": "stderr",
     "output_type": "stream",
     "text": [
      "/home/ggenois/anaconda3/envs/rapids-24.08/lib/python3.9/site-packages/xgboost/core.py:158: UserWarning: [22:55:18] WARNING: /home/conda/feedstock_root/build_artifacts/xgboost-split_1722516643542/work/src/learner.cc:740: \n",
      "Parameters: { \"use_label_encoder\" } are not used.\n",
      "\n",
      "  warnings.warn(smsg, UserWarning)\n",
      "/home/ggenois/anaconda3/envs/rapids-24.08/lib/python3.9/site-packages/xgboost/core.py:158: UserWarning: [22:55:21] WARNING: /home/conda/feedstock_root/build_artifacts/xgboost-split_1722516643542/work/src/learner.cc:740: \n",
      "Parameters: { \"use_label_encoder\" } are not used.\n",
      "\n",
      "  warnings.warn(smsg, UserWarning)\n"
     ]
    },
    {
     "name": "stdout",
     "output_type": "stream",
     "text": [
      "Confusion Matrix - Fold 1:\n",
      "[[1181  243]\n",
      " [ 407  513]]\n",
      "\n",
      "Confusion Matrix - Fold 2:\n",
      "[[1113  312]\n",
      " [ 366  553]]\n",
      "\n",
      "Fitting 2 folds for each of 1 candidates, totalling 2 fits\n",
      "[CV 1/2] END model__C=5.588135039273247, model__penalty=l1, model__solver=liblinear;, score=0.598 total time=   0.3s\n",
      "[CV 2/2] END model__C=5.588135039273247, model__penalty=l1, model__solver=liblinear;, score=0.599 total time=   0.3s\n",
      "Best F1 for LogisticRegression: 0.5981975112792124\n",
      "Confusion Matrix - Fold 1:\n",
      "[[1077  347]\n",
      " [ 381  539]]\n",
      "\n",
      "Confusion Matrix - Fold 2:\n",
      "[[1031  394]\n",
      " [ 358  561]]\n",
      "\n"
     ]
    },
    {
     "name": "stderr",
     "output_type": "stream",
     "text": [
      "/home/ggenois/anaconda3/envs/rapids-24.08/lib/python3.9/site-packages/xgboost/core.py:158: UserWarning: [22:55:26] WARNING: /home/conda/feedstock_root/build_artifacts/xgboost-split_1722516643542/work/src/learner.cc:740: \n",
      "Parameters: { \"use_label_encoder\" } are not used.\n",
      "\n",
      "  warnings.warn(smsg, UserWarning)\n"
     ]
    },
    {
     "name": "stdout",
     "output_type": "stream",
     "text": [
      "Score F1 de validation du voteur:  0.6785479295427365\n",
      "Fitting 2 folds for each of 1 candidates, totalling 2 fits\n",
      "[CV 1/2] END ...model__alpha=0.3851694527491273;, score=0.687 total time=   0.3s\n",
      "[CV 2/2] END ...model__alpha=0.3851694527491273;, score=0.683 total time=   0.3s\n",
      "Best F1 for ComplementNB: 0.6849461126344383\n",
      "Confusion Matrix - Fold 1:\n",
      "[[1298  483]\n",
      " [ 296  853]]\n",
      "\n",
      "Confusion Matrix - Fold 2:\n",
      "[[1275  506]\n",
      " [ 290  859]]\n",
      "\n",
      "Fitting 2 folds for each of 1 candidates, totalling 2 fits\n"
     ]
    },
    {
     "name": "stderr",
     "output_type": "stream",
     "text": [
      "/home/ggenois/anaconda3/envs/rapids-24.08/lib/python3.9/site-packages/xgboost/core.py:158: UserWarning: [22:55:35] WARNING: /home/conda/feedstock_root/build_artifacts/xgboost-split_1722516643542/work/src/learner.cc:740: \n",
      "Parameters: { \"use_label_encoder\" } are not used.\n",
      "\n",
      "  warnings.warn(smsg, UserWarning)\n"
     ]
    },
    {
     "name": "stdout",
     "output_type": "stream",
     "text": [
      "[CV 1/2] END model__learning_rate=0.11976270078546496, model__max_depth=5, model__n_estimators=200, model__subsample=0.8411053504286575;, score=0.630 total time=   4.4s\n"
     ]
    },
    {
     "name": "stderr",
     "output_type": "stream",
     "text": [
      "/home/ggenois/anaconda3/envs/rapids-24.08/lib/python3.9/site-packages/xgboost/core.py:158: UserWarning: [22:55:39] WARNING: /home/conda/feedstock_root/build_artifacts/xgboost-split_1722516643542/work/src/learner.cc:740: \n",
      "Parameters: { \"use_label_encoder\" } are not used.\n",
      "\n",
      "  warnings.warn(smsg, UserWarning)\n"
     ]
    },
    {
     "name": "stdout",
     "output_type": "stream",
     "text": [
      "[CV 2/2] END model__learning_rate=0.11976270078546496, model__max_depth=5, model__n_estimators=200, model__subsample=0.8411053504286575;, score=0.635 total time=   4.2s\n"
     ]
    },
    {
     "name": "stderr",
     "output_type": "stream",
     "text": [
      "/home/ggenois/anaconda3/envs/rapids-24.08/lib/python3.9/site-packages/xgboost/core.py:158: UserWarning: [22:55:43] WARNING: /home/conda/feedstock_root/build_artifacts/xgboost-split_1722516643542/work/src/learner.cc:740: \n",
      "Parameters: { \"use_label_encoder\" } are not used.\n",
      "\n",
      "  warnings.warn(smsg, UserWarning)\n"
     ]
    },
    {
     "name": "stdout",
     "output_type": "stream",
     "text": [
      "Best F1 for XGBClassifier: 0.6321269577091664\n"
     ]
    },
    {
     "name": "stderr",
     "output_type": "stream",
     "text": [
      "/home/ggenois/anaconda3/envs/rapids-24.08/lib/python3.9/site-packages/xgboost/core.py:158: UserWarning: [22:55:50] WARNING: /home/conda/feedstock_root/build_artifacts/xgboost-split_1722516643542/work/src/learner.cc:740: \n",
      "Parameters: { \"use_label_encoder\" } are not used.\n",
      "\n",
      "  warnings.warn(smsg, UserWarning)\n",
      "/home/ggenois/anaconda3/envs/rapids-24.08/lib/python3.9/site-packages/xgboost/core.py:158: UserWarning: [22:55:54] WARNING: /home/conda/feedstock_root/build_artifacts/xgboost-split_1722516643542/work/src/learner.cc:740: \n",
      "Parameters: { \"use_label_encoder\" } are not used.\n",
      "\n",
      "  warnings.warn(smsg, UserWarning)\n"
     ]
    },
    {
     "name": "stdout",
     "output_type": "stream",
     "text": [
      "Confusion Matrix - Fold 1:\n",
      "[[1500  281]\n",
      " [ 492  657]]\n",
      "\n",
      "Confusion Matrix - Fold 2:\n",
      "[[1452  329]\n",
      " [ 462  687]]\n",
      "\n",
      "Fitting 2 folds for each of 1 candidates, totalling 2 fits\n",
      "[CV 1/2] END model__C=5.588135039273247, model__penalty=l1, model__solver=liblinear;, score=0.587 total time=   0.3s\n",
      "[CV 2/2] END model__C=5.588135039273247, model__penalty=l1, model__solver=liblinear;, score=0.605 total time=   0.3s\n",
      "Best F1 for LogisticRegression: 0.5961926125858565\n",
      "Confusion Matrix - Fold 1:\n",
      "[[1350  431]\n",
      " [ 492  657]]\n",
      "\n",
      "Confusion Matrix - Fold 2:\n",
      "[[1306  475]\n",
      " [ 447  702]]\n",
      "\n"
     ]
    },
    {
     "name": "stderr",
     "output_type": "stream",
     "text": [
      "/home/ggenois/anaconda3/envs/rapids-24.08/lib/python3.9/site-packages/xgboost/core.py:158: UserWarning: [22:56:01] WARNING: /home/conda/feedstock_root/build_artifacts/xgboost-split_1722516643542/work/src/learner.cc:740: \n",
      "Parameters: { \"use_label_encoder\" } are not used.\n",
      "\n",
      "  warnings.warn(smsg, UserWarning)\n"
     ]
    },
    {
     "name": "stdout",
     "output_type": "stream",
     "text": [
      "predictions saved in output/20241111/225608_ensemble_cnb_xgboost_logreg_random_search_15_iter_stopwords_undersampling.csv\n",
      "already same predictions saved in submissions? None\n",
      "already same predictions saved in output?\n",
      "\t output/20241111/210232_ensemble_cnb_xgboost_logreg_random_search_15_iter_stopwords_undersampling.csv\n",
      "\t output/20241111/225304_ensemble_cnb_xgboost_logreg_random_search_15_iter_stopwords_undersampling.csv\n",
      "\t output/20241111/155258_ensemble_cnb_xgboost_logreg_random_search_15_iter_stopwords_undersampling_cumulative_sum.csv\n",
      "Number of 0: 1569\n",
      "Number of 1: 787\n",
      "Ratio of 1: 0.3340407470288625\n",
      "Number of differences with bayes classifier submission: 236\n",
      "Ratio of 1 in bayes submission: 0.29499151103565363\n"
     ]
    }
   ],
   "source": [
    "data_preprocess = DataPreprocess()\n",
    "data_preprocess.remove_stopwords()\n",
    "X_train_undersampled, y_train_undersampled = random_undersampling(data_preprocess.train, data_preprocess.label_train)\n",
    "kf = StratifiedKFold(n_splits=5, shuffle=True, random_state=42)\n",
    "scores = []\n",
    "model_names = ['ComplementNB', 'XGBoost', 'LogisticRegression']\n",
    "# Validation croisée du voteur\n",
    "for train_index, test_index in kf.split(X_train_undersampled, y_train_undersampled):\n",
    "    # Split données\n",
    "    X_train, X_test = X_train_undersampled[train_index], X_train_undersampled[test_index]\n",
    "    y_train, y_test = y_train_undersampled[train_index], y_train_undersampled[test_index]\n",
    "    best_ensemble_model = train_ensemble(X_train, y_train, model_names)    \n",
    "    y_pred = best_ensemble_model.predict(X_test)\n",
    "    score = f1_score(y_test, y_pred)\n",
    "    scores.append(score)\n",
    "\n",
    "mean_score = np.mean(scores)\n",
    "print(\"Score F1 de validation du voteur: \", mean_score)\n",
    "\n",
    "best_ensemble_model = train_ensemble(X_train_undersampled, y_train_undersampled, model_names)\n",
    "predictions_voter = best_ensemble_model.predict(data_preprocess.test)\n",
    "save_output(predictions_voter, \"ensemble_cnb_xgboost_logreg\", \"random_search_15_iter\", \"stopwords_undersampling\")"
   ]
  },
  {
   "attachments": {},
   "cell_type": "markdown",
   "metadata": {},
   "source": [
    "# Apprentissage par ensembles: Complement Naive Bayes, XGBoost, SVC, SGD"
   ]
  },
  {
   "attachments": {},
   "cell_type": "markdown",
   "metadata": {},
   "source": [
    "Prétraitement: Retirer stopwords, Réduction par somme cumulative, sous-échantillonage aléatoire"
   ]
  },
  {
   "cell_type": "code",
   "execution_count": 14,
   "metadata": {
    "ExecuteTime": {
     "end_time": "2024-11-12T05:29:19.272105Z",
     "start_time": "2024-11-12T03:56:08.880780Z"
    }
   },
   "outputs": [
    {
     "name": "stdout",
     "output_type": "stream",
     "text": [
      "Fitting 2 folds for each of 1 candidates, totalling 2 fits\n",
      "[CV 1/2] END ...model__alpha=0.3851694527491273;, score=0.689 total time=   0.1s\n",
      "[CV 2/2] END ...model__alpha=0.3851694527491273;, score=0.678 total time=   0.1s\n",
      "Best F1 for ComplementNB: 0.6837390151836877\n",
      "Confusion Matrix - Fold 1:\n",
      "[[1028  397]\n",
      " [ 227  692]]\n",
      "\n",
      "Confusion Matrix - Fold 2:\n",
      "[[1011  414]\n",
      " [ 235  684]]\n",
      "\n",
      "Fitting 2 folds for each of 1 candidates, totalling 2 fits\n"
     ]
    },
    {
     "name": "stderr",
     "output_type": "stream",
     "text": [
      "/home/ggenois/anaconda3/envs/rapids-24.08/lib/python3.9/site-packages/xgboost/core.py:158: UserWarning: [22:56:10] WARNING: /home/conda/feedstock_root/build_artifacts/xgboost-split_1722516643542/work/src/learner.cc:740: \n",
      "Parameters: { \"use_label_encoder\" } are not used.\n",
      "\n",
      "  warnings.warn(smsg, UserWarning)\n"
     ]
    },
    {
     "name": "stdout",
     "output_type": "stream",
     "text": [
      "[CV 1/2] END model__learning_rate=0.11976270078546496, model__max_depth=5, model__n_estimators=200, model__subsample=0.8411053504286575;, score=0.625 total time=   1.4s\n"
     ]
    },
    {
     "name": "stderr",
     "output_type": "stream",
     "text": [
      "/home/ggenois/anaconda3/envs/rapids-24.08/lib/python3.9/site-packages/xgboost/core.py:158: UserWarning: [22:56:12] WARNING: /home/conda/feedstock_root/build_artifacts/xgboost-split_1722516643542/work/src/learner.cc:740: \n",
      "Parameters: { \"use_label_encoder\" } are not used.\n",
      "\n",
      "  warnings.warn(smsg, UserWarning)\n"
     ]
    },
    {
     "name": "stdout",
     "output_type": "stream",
     "text": [
      "[CV 2/2] END model__learning_rate=0.11976270078546496, model__max_depth=5, model__n_estimators=200, model__subsample=0.8411053504286575;, score=0.622 total time=   1.3s\n"
     ]
    },
    {
     "name": "stderr",
     "output_type": "stream",
     "text": [
      "/home/ggenois/anaconda3/envs/rapids-24.08/lib/python3.9/site-packages/xgboost/core.py:158: UserWarning: [22:56:13] WARNING: /home/conda/feedstock_root/build_artifacts/xgboost-split_1722516643542/work/src/learner.cc:740: \n",
      "Parameters: { \"use_label_encoder\" } are not used.\n",
      "\n",
      "  warnings.warn(smsg, UserWarning)\n"
     ]
    },
    {
     "name": "stdout",
     "output_type": "stream",
     "text": [
      "Best F1 for XGBClassifier: 0.6235194453044464\n"
     ]
    },
    {
     "name": "stderr",
     "output_type": "stream",
     "text": [
      "/home/ggenois/anaconda3/envs/rapids-24.08/lib/python3.9/site-packages/xgboost/core.py:158: UserWarning: [22:56:15] WARNING: /home/conda/feedstock_root/build_artifacts/xgboost-split_1722516643542/work/src/learner.cc:740: \n",
      "Parameters: { \"use_label_encoder\" } are not used.\n",
      "\n",
      "  warnings.warn(smsg, UserWarning)\n",
      "/home/ggenois/anaconda3/envs/rapids-24.08/lib/python3.9/site-packages/xgboost/core.py:158: UserWarning: [22:56:17] WARNING: /home/conda/feedstock_root/build_artifacts/xgboost-split_1722516643542/work/src/learner.cc:740: \n",
      "Parameters: { \"use_label_encoder\" } are not used.\n",
      "\n",
      "  warnings.warn(smsg, UserWarning)\n"
     ]
    },
    {
     "name": "stdout",
     "output_type": "stream",
     "text": [
      "Confusion Matrix - Fold 1:\n",
      "[[1176  249]\n",
      " [ 388  531]]\n",
      "\n",
      "Confusion Matrix - Fold 2:\n",
      "[[1152  273]\n",
      " [ 381  538]]\n",
      "\n",
      "Fitting 2 folds for each of 1 candidates, totalling 2 fits\n",
      "[CV 1/2] END ...model__C=47, model__gamma=0.016;, score=0.468 total time= 1.3min\n",
      "[CV 2/2] END ...model__C=47, model__gamma=0.016;, score=0.494 total time= 1.3min\n",
      "Best F1 for SVC: 0.4809231232587908\n",
      "Confusion Matrix - Fold 1:\n",
      "[[1273  152]\n",
      " [ 592  327]]\n",
      "\n",
      "Confusion Matrix - Fold 2:\n",
      "[[1271  154]\n",
      " [ 567  352]]\n",
      "\n",
      "Fitting 2 folds for each of 1 candidates, totalling 2 fits\n",
      "[CV 1/2] END model__alpha=0.0774263682681127, model__l1_ratio=0.445;, score=0.412 total time=   1.1s\n",
      "[CV 2/2] END model__alpha=0.0774263682681127, model__l1_ratio=0.445;, score=0.442 total time=   1.0s\n",
      "Best F1 for SGDClassifier: 0.42702953034760815\n",
      "Confusion Matrix - Fold 1:\n",
      "[[1211  214]\n",
      " [ 557  362]]\n",
      "\n",
      "Confusion Matrix - Fold 2:\n",
      "[[1282  143]\n",
      " [ 616  303]]\n",
      "\n"
     ]
    },
    {
     "name": "stderr",
     "output_type": "stream",
     "text": [
      "/home/ggenois/anaconda3/envs/rapids-24.08/lib/python3.9/site-packages/xgboost/core.py:158: UserWarning: [23:05:50] WARNING: /home/conda/feedstock_root/build_artifacts/xgboost-split_1722516643542/work/src/learner.cc:740: \n",
      "Parameters: { \"use_label_encoder\" } are not used.\n",
      "\n",
      "  warnings.warn(smsg, UserWarning)\n"
     ]
    },
    {
     "name": "stdout",
     "output_type": "stream",
     "text": [
      "Fitting 2 folds for each of 1 candidates, totalling 2 fits\n",
      "[CV 1/2] END ...model__alpha=0.3851694527491273;, score=0.676 total time=   0.1s\n",
      "[CV 2/2] END ...model__alpha=0.3851694527491273;, score=0.687 total time=   0.1s\n",
      "Best F1 for ComplementNB: 0.6813773125608569\n",
      "Confusion Matrix - Fold 1:\n",
      "[[984 441]\n",
      " [225 694]]\n",
      "\n",
      "Confusion Matrix - Fold 2:\n",
      "[[1031  394]\n",
      " [ 232  687]]\n",
      "\n",
      "Fitting 2 folds for each of 1 candidates, totalling 2 fits\n"
     ]
    },
    {
     "name": "stderr",
     "output_type": "stream",
     "text": [
      "/home/ggenois/anaconda3/envs/rapids-24.08/lib/python3.9/site-packages/xgboost/core.py:158: UserWarning: [23:10:22] WARNING: /home/conda/feedstock_root/build_artifacts/xgboost-split_1722516643542/work/src/learner.cc:740: \n",
      "Parameters: { \"use_label_encoder\" } are not used.\n",
      "\n",
      "  warnings.warn(smsg, UserWarning)\n"
     ]
    },
    {
     "name": "stdout",
     "output_type": "stream",
     "text": [
      "[CV 1/2] END model__learning_rate=0.11976270078546496, model__max_depth=5, model__n_estimators=200, model__subsample=0.8411053504286575;, score=0.626 total time=   1.4s\n"
     ]
    },
    {
     "name": "stderr",
     "output_type": "stream",
     "text": [
      "/home/ggenois/anaconda3/envs/rapids-24.08/lib/python3.9/site-packages/xgboost/core.py:158: UserWarning: [23:10:23] WARNING: /home/conda/feedstock_root/build_artifacts/xgboost-split_1722516643542/work/src/learner.cc:740: \n",
      "Parameters: { \"use_label_encoder\" } are not used.\n",
      "\n",
      "  warnings.warn(smsg, UserWarning)\n"
     ]
    },
    {
     "name": "stdout",
     "output_type": "stream",
     "text": [
      "[CV 2/2] END model__learning_rate=0.11976270078546496, model__max_depth=5, model__n_estimators=200, model__subsample=0.8411053504286575;, score=0.614 total time=   1.3s\n"
     ]
    },
    {
     "name": "stderr",
     "output_type": "stream",
     "text": [
      "/home/ggenois/anaconda3/envs/rapids-24.08/lib/python3.9/site-packages/xgboost/core.py:158: UserWarning: [23:10:25] WARNING: /home/conda/feedstock_root/build_artifacts/xgboost-split_1722516643542/work/src/learner.cc:740: \n",
      "Parameters: { \"use_label_encoder\" } are not used.\n",
      "\n",
      "  warnings.warn(smsg, UserWarning)\n"
     ]
    },
    {
     "name": "stdout",
     "output_type": "stream",
     "text": [
      "Best F1 for XGBClassifier: 0.6201772694734053\n"
     ]
    },
    {
     "name": "stderr",
     "output_type": "stream",
     "text": [
      "/home/ggenois/anaconda3/envs/rapids-24.08/lib/python3.9/site-packages/xgboost/core.py:158: UserWarning: [23:10:27] WARNING: /home/conda/feedstock_root/build_artifacts/xgboost-split_1722516643542/work/src/learner.cc:740: \n",
      "Parameters: { \"use_label_encoder\" } are not used.\n",
      "\n",
      "  warnings.warn(smsg, UserWarning)\n",
      "/home/ggenois/anaconda3/envs/rapids-24.08/lib/python3.9/site-packages/xgboost/core.py:158: UserWarning: [23:10:28] WARNING: /home/conda/feedstock_root/build_artifacts/xgboost-split_1722516643542/work/src/learner.cc:740: \n",
      "Parameters: { \"use_label_encoder\" } are not used.\n",
      "\n",
      "  warnings.warn(smsg, UserWarning)\n"
     ]
    },
    {
     "name": "stdout",
     "output_type": "stream",
     "text": [
      "Confusion Matrix - Fold 1:\n",
      "[[1163  262]\n",
      " [ 381  538]]\n",
      "\n",
      "Confusion Matrix - Fold 2:\n",
      "[[1142  283]\n",
      " [ 386  533]]\n",
      "\n",
      "Fitting 2 folds for each of 1 candidates, totalling 2 fits\n",
      "[CV 1/2] END ...model__C=47, model__gamma=0.016;, score=0.479 total time= 1.3min\n",
      "[CV 2/2] END ...model__C=47, model__gamma=0.016;, score=0.497 total time= 1.3min\n",
      "Best F1 for SVC: 0.4876989473758886\n",
      "Confusion Matrix - Fold 1:\n",
      "[[1257  168]\n",
      " [ 577  342]]\n",
      "\n",
      "Confusion Matrix - Fold 2:\n",
      "[[1306  119]\n",
      " [ 576  343]]\n",
      "\n",
      "Fitting 2 folds for each of 1 candidates, totalling 2 fits\n",
      "[CV 1/2] END model__alpha=0.0774263682681127, model__l1_ratio=0.445;, score=0.447 total time=   1.1s\n",
      "[CV 2/2] END model__alpha=0.0774263682681127, model__l1_ratio=0.445;, score=0.424 total time=   1.0s\n",
      "Best F1 for SGDClassifier: 0.43550776583034645\n",
      "Confusion Matrix - Fold 1:\n",
      "[[1266  159]\n",
      " [ 613  306]]\n",
      "\n",
      "Confusion Matrix - Fold 2:\n",
      "[[1305  120]\n",
      " [ 685  234]]\n",
      "\n"
     ]
    },
    {
     "name": "stderr",
     "output_type": "stream",
     "text": [
      "/home/ggenois/anaconda3/envs/rapids-24.08/lib/python3.9/site-packages/xgboost/core.py:158: UserWarning: [23:19:58] WARNING: /home/conda/feedstock_root/build_artifacts/xgboost-split_1722516643542/work/src/learner.cc:740: \n",
      "Parameters: { \"use_label_encoder\" } are not used.\n",
      "\n",
      "  warnings.warn(smsg, UserWarning)\n"
     ]
    },
    {
     "name": "stdout",
     "output_type": "stream",
     "text": [
      "Fitting 2 folds for each of 1 candidates, totalling 2 fits\n",
      "[CV 1/2] END ...model__alpha=0.3851694527491273;, score=0.682 total time=   0.1s\n",
      "[CV 2/2] END ...model__alpha=0.3851694527491273;, score=0.701 total time=   0.1s\n",
      "Best F1 for ComplementNB: 0.6911274834395083\n",
      "Confusion Matrix - Fold 1:\n",
      "[[1019  406]\n",
      " [ 234  685]]\n",
      "\n",
      "Confusion Matrix - Fold 2:\n",
      "[[1070  355]\n",
      " [ 232  687]]\n",
      "\n",
      "Fitting 2 folds for each of 1 candidates, totalling 2 fits\n"
     ]
    },
    {
     "name": "stderr",
     "output_type": "stream",
     "text": [
      "/home/ggenois/anaconda3/envs/rapids-24.08/lib/python3.9/site-packages/xgboost/core.py:158: UserWarning: [23:24:31] WARNING: /home/conda/feedstock_root/build_artifacts/xgboost-split_1722516643542/work/src/learner.cc:740: \n",
      "Parameters: { \"use_label_encoder\" } are not used.\n",
      "\n",
      "  warnings.warn(smsg, UserWarning)\n"
     ]
    },
    {
     "name": "stdout",
     "output_type": "stream",
     "text": [
      "[CV 1/2] END model__learning_rate=0.11976270078546496, model__max_depth=5, model__n_estimators=200, model__subsample=0.8411053504286575;, score=0.616 total time=   1.4s\n"
     ]
    },
    {
     "name": "stderr",
     "output_type": "stream",
     "text": [
      "/home/ggenois/anaconda3/envs/rapids-24.08/lib/python3.9/site-packages/xgboost/core.py:158: UserWarning: [23:24:32] WARNING: /home/conda/feedstock_root/build_artifacts/xgboost-split_1722516643542/work/src/learner.cc:740: \n",
      "Parameters: { \"use_label_encoder\" } are not used.\n",
      "\n",
      "  warnings.warn(smsg, UserWarning)\n"
     ]
    },
    {
     "name": "stdout",
     "output_type": "stream",
     "text": [
      "[CV 2/2] END model__learning_rate=0.11976270078546496, model__max_depth=5, model__n_estimators=200, model__subsample=0.8411053504286575;, score=0.613 total time=   1.2s\n"
     ]
    },
    {
     "name": "stderr",
     "output_type": "stream",
     "text": [
      "/home/ggenois/anaconda3/envs/rapids-24.08/lib/python3.9/site-packages/xgboost/core.py:158: UserWarning: [23:24:33] WARNING: /home/conda/feedstock_root/build_artifacts/xgboost-split_1722516643542/work/src/learner.cc:740: \n",
      "Parameters: { \"use_label_encoder\" } are not used.\n",
      "\n",
      "  warnings.warn(smsg, UserWarning)\n"
     ]
    },
    {
     "name": "stdout",
     "output_type": "stream",
     "text": [
      "Best F1 for XGBClassifier: 0.6141594581826888\n"
     ]
    },
    {
     "name": "stderr",
     "output_type": "stream",
     "text": [
      "/home/ggenois/anaconda3/envs/rapids-24.08/lib/python3.9/site-packages/xgboost/core.py:158: UserWarning: [23:24:36] WARNING: /home/conda/feedstock_root/build_artifacts/xgboost-split_1722516643542/work/src/learner.cc:740: \n",
      "Parameters: { \"use_label_encoder\" } are not used.\n",
      "\n",
      "  warnings.warn(smsg, UserWarning)\n",
      "/home/ggenois/anaconda3/envs/rapids-24.08/lib/python3.9/site-packages/xgboost/core.py:158: UserWarning: [23:24:37] WARNING: /home/conda/feedstock_root/build_artifacts/xgboost-split_1722516643542/work/src/learner.cc:740: \n",
      "Parameters: { \"use_label_encoder\" } are not used.\n",
      "\n",
      "  warnings.warn(smsg, UserWarning)\n"
     ]
    },
    {
     "name": "stdout",
     "output_type": "stream",
     "text": [
      "Confusion Matrix - Fold 1:\n",
      "[[1139  286]\n",
      " [ 383  536]]\n",
      "\n",
      "Confusion Matrix - Fold 2:\n",
      "[[1164  261]\n",
      " [ 398  521]]\n",
      "\n",
      "Fitting 2 folds for each of 1 candidates, totalling 2 fits\n",
      "[CV 1/2] END ...model__C=47, model__gamma=0.016;, score=0.500 total time= 1.3min\n",
      "[CV 2/2] END ...model__C=47, model__gamma=0.016;, score=0.514 total time= 1.3min\n",
      "Best F1 for SVC: 0.5071032571032571\n",
      "Confusion Matrix - Fold 1:\n",
      "[[1264  161]\n",
      " [ 559  360]]\n",
      "\n",
      "Confusion Matrix - Fold 2:\n",
      "[[1272  153]\n",
      " [ 548  371]]\n",
      "\n",
      "Fitting 2 folds for each of 1 candidates, totalling 2 fits\n",
      "[CV 1/2] END model__alpha=0.0774263682681127, model__l1_ratio=0.445;, score=0.424 total time=   0.9s\n",
      "[CV 2/2] END model__alpha=0.0774263682681127, model__l1_ratio=0.445;, score=0.475 total time=   1.0s\n",
      "Best F1 for SGDClassifier: 0.4494563960212815\n",
      "Confusion Matrix - Fold 1:\n",
      "[[1262  163]\n",
      " [ 632  287]]\n",
      "\n",
      "Confusion Matrix - Fold 2:\n",
      "[[1239  186]\n",
      " [ 590  329]]\n",
      "\n"
     ]
    },
    {
     "name": "stderr",
     "output_type": "stream",
     "text": [
      "/home/ggenois/anaconda3/envs/rapids-24.08/lib/python3.9/site-packages/xgboost/core.py:158: UserWarning: [23:34:08] WARNING: /home/conda/feedstock_root/build_artifacts/xgboost-split_1722516643542/work/src/learner.cc:740: \n",
      "Parameters: { \"use_label_encoder\" } are not used.\n",
      "\n",
      "  warnings.warn(smsg, UserWarning)\n"
     ]
    },
    {
     "name": "stdout",
     "output_type": "stream",
     "text": [
      "Fitting 2 folds for each of 1 candidates, totalling 2 fits\n",
      "[CV 1/2] END ...model__alpha=0.3851694527491273;, score=0.695 total time=   0.1s\n",
      "[CV 2/2] END ...model__alpha=0.3851694527491273;, score=0.685 total time=   0.1s\n",
      "Best F1 for ComplementNB: 0.6897205813831147\n",
      "Confusion Matrix - Fold 1:\n",
      "[[1048  376]\n",
      " [ 230  690]]\n",
      "\n",
      "Confusion Matrix - Fold 2:\n",
      "[[1022  403]\n",
      " [ 231  688]]\n",
      "\n",
      "Fitting 2 folds for each of 1 candidates, totalling 2 fits\n"
     ]
    },
    {
     "name": "stderr",
     "output_type": "stream",
     "text": [
      "/home/ggenois/anaconda3/envs/rapids-24.08/lib/python3.9/site-packages/xgboost/core.py:158: UserWarning: [23:38:42] WARNING: /home/conda/feedstock_root/build_artifacts/xgboost-split_1722516643542/work/src/learner.cc:740: \n",
      "Parameters: { \"use_label_encoder\" } are not used.\n",
      "\n",
      "  warnings.warn(smsg, UserWarning)\n"
     ]
    },
    {
     "name": "stdout",
     "output_type": "stream",
     "text": [
      "[CV 1/2] END model__learning_rate=0.11976270078546496, model__max_depth=5, model__n_estimators=200, model__subsample=0.8411053504286575;, score=0.627 total time=   1.4s\n"
     ]
    },
    {
     "name": "stderr",
     "output_type": "stream",
     "text": [
      "/home/ggenois/anaconda3/envs/rapids-24.08/lib/python3.9/site-packages/xgboost/core.py:158: UserWarning: [23:38:44] WARNING: /home/conda/feedstock_root/build_artifacts/xgboost-split_1722516643542/work/src/learner.cc:740: \n",
      "Parameters: { \"use_label_encoder\" } are not used.\n",
      "\n",
      "  warnings.warn(smsg, UserWarning)\n"
     ]
    },
    {
     "name": "stdout",
     "output_type": "stream",
     "text": [
      "[CV 2/2] END model__learning_rate=0.11976270078546496, model__max_depth=5, model__n_estimators=200, model__subsample=0.8411053504286575;, score=0.613 total time=   1.4s\n"
     ]
    },
    {
     "name": "stderr",
     "output_type": "stream",
     "text": [
      "/home/ggenois/anaconda3/envs/rapids-24.08/lib/python3.9/site-packages/xgboost/core.py:158: UserWarning: [23:38:45] WARNING: /home/conda/feedstock_root/build_artifacts/xgboost-split_1722516643542/work/src/learner.cc:740: \n",
      "Parameters: { \"use_label_encoder\" } are not used.\n",
      "\n",
      "  warnings.warn(smsg, UserWarning)\n"
     ]
    },
    {
     "name": "stdout",
     "output_type": "stream",
     "text": [
      "Best F1 for XGBClassifier: 0.6198774367553173\n"
     ]
    },
    {
     "name": "stderr",
     "output_type": "stream",
     "text": [
      "/home/ggenois/anaconda3/envs/rapids-24.08/lib/python3.9/site-packages/xgboost/core.py:158: UserWarning: [23:38:47] WARNING: /home/conda/feedstock_root/build_artifacts/xgboost-split_1722516643542/work/src/learner.cc:740: \n",
      "Parameters: { \"use_label_encoder\" } are not used.\n",
      "\n",
      "  warnings.warn(smsg, UserWarning)\n",
      "/home/ggenois/anaconda3/envs/rapids-24.08/lib/python3.9/site-packages/xgboost/core.py:158: UserWarning: [23:38:48] WARNING: /home/conda/feedstock_root/build_artifacts/xgboost-split_1722516643542/work/src/learner.cc:740: \n",
      "Parameters: { \"use_label_encoder\" } are not used.\n",
      "\n",
      "  warnings.warn(smsg, UserWarning)\n"
     ]
    },
    {
     "name": "stdout",
     "output_type": "stream",
     "text": [
      "Confusion Matrix - Fold 1:\n",
      "[[1161  263]\n",
      " [ 380  540]]\n",
      "\n",
      "Confusion Matrix - Fold 2:\n",
      "[[1165  260]\n",
      " [ 398  521]]\n",
      "\n",
      "Fitting 2 folds for each of 1 candidates, totalling 2 fits\n",
      "[CV 1/2] END ...model__C=47, model__gamma=0.016;, score=0.524 total time= 1.3min\n",
      "[CV 2/2] END ...model__C=47, model__gamma=0.016;, score=0.476 total time= 1.3min\n",
      "Best F1 for SVC: 0.5001194512909096\n",
      "Confusion Matrix - Fold 1:\n",
      "[[1273  151]\n",
      " [ 540  380]]\n",
      "\n",
      "Confusion Matrix - Fold 2:\n",
      "[[1276  149]\n",
      " [ 585  334]]\n",
      "\n",
      "Fitting 2 folds for each of 1 candidates, totalling 2 fits\n",
      "[CV 1/2] END model__alpha=0.0774263682681127, model__l1_ratio=0.445;, score=0.428 total time=   1.4s\n",
      "[CV 2/2] END model__alpha=0.0774263682681127, model__l1_ratio=0.445;, score=0.407 total time=   0.6s\n",
      "Best F1 for SGDClassifier: 0.4174521688063908\n",
      "Confusion Matrix - Fold 1:\n",
      "[[1294  130]\n",
      " [ 641  279]]\n",
      "\n",
      "Confusion Matrix - Fold 2:\n",
      "[[1266  159]\n",
      " [ 621  298]]\n",
      "\n"
     ]
    },
    {
     "name": "stderr",
     "output_type": "stream",
     "text": [
      "/home/ggenois/anaconda3/envs/rapids-24.08/lib/python3.9/site-packages/xgboost/core.py:158: UserWarning: [23:48:21] WARNING: /home/conda/feedstock_root/build_artifacts/xgboost-split_1722516643542/work/src/learner.cc:740: \n",
      "Parameters: { \"use_label_encoder\" } are not used.\n",
      "\n",
      "  warnings.warn(smsg, UserWarning)\n"
     ]
    },
    {
     "name": "stdout",
     "output_type": "stream",
     "text": [
      "Fitting 2 folds for each of 1 candidates, totalling 2 fits\n",
      "[CV 1/2] END ...model__alpha=0.3851694527491273;, score=0.682 total time=   0.1s\n",
      "[CV 2/2] END ...model__alpha=0.3851694527491273;, score=0.693 total time=   0.1s\n",
      "Best F1 for ComplementNB: 0.6876064518070476\n",
      "Confusion Matrix - Fold 1:\n",
      "[[1087  337]\n",
      " [ 269  651]]\n",
      "\n",
      "Confusion Matrix - Fold 2:\n",
      "[[978 447]\n",
      " [195 724]]\n",
      "\n",
      "Fitting 2 folds for each of 1 candidates, totalling 2 fits\n"
     ]
    },
    {
     "name": "stderr",
     "output_type": "stream",
     "text": [
      "/home/ggenois/anaconda3/envs/rapids-24.08/lib/python3.9/site-packages/xgboost/core.py:158: UserWarning: [23:52:56] WARNING: /home/conda/feedstock_root/build_artifacts/xgboost-split_1722516643542/work/src/learner.cc:740: \n",
      "Parameters: { \"use_label_encoder\" } are not used.\n",
      "\n",
      "  warnings.warn(smsg, UserWarning)\n"
     ]
    },
    {
     "name": "stdout",
     "output_type": "stream",
     "text": [
      "[CV 1/2] END model__learning_rate=0.11976270078546496, model__max_depth=5, model__n_estimators=200, model__subsample=0.8411053504286575;, score=0.612 total time=   1.3s\n"
     ]
    },
    {
     "name": "stderr",
     "output_type": "stream",
     "text": [
      "/home/ggenois/anaconda3/envs/rapids-24.08/lib/python3.9/site-packages/xgboost/core.py:158: UserWarning: [23:52:57] WARNING: /home/conda/feedstock_root/build_artifacts/xgboost-split_1722516643542/work/src/learner.cc:740: \n",
      "Parameters: { \"use_label_encoder\" } are not used.\n",
      "\n",
      "  warnings.warn(smsg, UserWarning)\n"
     ]
    },
    {
     "name": "stdout",
     "output_type": "stream",
     "text": [
      "[CV 2/2] END model__learning_rate=0.11976270078546496, model__max_depth=5, model__n_estimators=200, model__subsample=0.8411053504286575;, score=0.620 total time=   1.3s\n"
     ]
    },
    {
     "name": "stderr",
     "output_type": "stream",
     "text": [
      "/home/ggenois/anaconda3/envs/rapids-24.08/lib/python3.9/site-packages/xgboost/core.py:158: UserWarning: [23:52:58] WARNING: /home/conda/feedstock_root/build_artifacts/xgboost-split_1722516643542/work/src/learner.cc:740: \n",
      "Parameters: { \"use_label_encoder\" } are not used.\n",
      "\n",
      "  warnings.warn(smsg, UserWarning)\n"
     ]
    },
    {
     "name": "stdout",
     "output_type": "stream",
     "text": [
      "Best F1 for XGBClassifier: 0.6160634973297516\n"
     ]
    },
    {
     "name": "stderr",
     "output_type": "stream",
     "text": [
      "/home/ggenois/anaconda3/envs/rapids-24.08/lib/python3.9/site-packages/xgboost/core.py:158: UserWarning: [23:53:01] WARNING: /home/conda/feedstock_root/build_artifacts/xgboost-split_1722516643542/work/src/learner.cc:740: \n",
      "Parameters: { \"use_label_encoder\" } are not used.\n",
      "\n",
      "  warnings.warn(smsg, UserWarning)\n",
      "/home/ggenois/anaconda3/envs/rapids-24.08/lib/python3.9/site-packages/xgboost/core.py:158: UserWarning: [23:53:02] WARNING: /home/conda/feedstock_root/build_artifacts/xgboost-split_1722516643542/work/src/learner.cc:740: \n",
      "Parameters: { \"use_label_encoder\" } are not used.\n",
      "\n",
      "  warnings.warn(smsg, UserWarning)\n"
     ]
    },
    {
     "name": "stdout",
     "output_type": "stream",
     "text": [
      "Confusion Matrix - Fold 1:\n",
      "[[1181  243]\n",
      " [ 407  513]]\n",
      "\n",
      "Confusion Matrix - Fold 2:\n",
      "[[1113  312]\n",
      " [ 366  553]]\n",
      "\n",
      "Fitting 2 folds for each of 1 candidates, totalling 2 fits\n",
      "[CV 1/2] END ...model__C=47, model__gamma=0.016;, score=0.487 total time= 1.3min\n",
      "[CV 2/2] END ...model__C=47, model__gamma=0.016;, score=0.511 total time= 1.3min\n",
      "Best F1 for SVC: 0.499041769041769\n",
      "Confusion Matrix - Fold 1:\n",
      "[[1304  120]\n",
      " [ 585  335]]\n",
      "\n",
      "Confusion Matrix - Fold 2:\n",
      "[[1242  183]\n",
      " [ 541  378]]\n",
      "\n",
      "Fitting 2 folds for each of 1 candidates, totalling 2 fits\n",
      "[CV 1/2] END model__alpha=0.0774263682681127, model__l1_ratio=0.445;, score=0.417 total time=   0.7s\n",
      "[CV 2/2] END model__alpha=0.0774263682681127, model__l1_ratio=0.445;, score=0.441 total time=   0.8s\n",
      "Best F1 for SGDClassifier: 0.4293307739813712\n",
      "Confusion Matrix - Fold 1:\n",
      "[[1247  177]\n",
      " [ 585  335]]\n",
      "\n",
      "Confusion Matrix - Fold 2:\n",
      "[[1230  195]\n",
      " [ 560  359]]\n",
      "\n"
     ]
    },
    {
     "name": "stderr",
     "output_type": "stream",
     "text": [
      "/home/ggenois/anaconda3/envs/rapids-24.08/lib/python3.9/site-packages/xgboost/core.py:158: UserWarning: [00:02:32] WARNING: /home/conda/feedstock_root/build_artifacts/xgboost-split_1722516643542/work/src/learner.cc:740: \n",
      "Parameters: { \"use_label_encoder\" } are not used.\n",
      "\n",
      "  warnings.warn(smsg, UserWarning)\n"
     ]
    },
    {
     "name": "stdout",
     "output_type": "stream",
     "text": [
      "Score F1 de validation du voteur:  0.6895449158756004\n",
      "Fitting 2 folds for each of 1 candidates, totalling 2 fits\n",
      "[CV 1/2] END ...model__alpha=0.3851694527491273;, score=0.694 total time=   0.1s\n",
      "[CV 2/2] END ...model__alpha=0.3851694527491273;, score=0.685 total time=   0.1s\n",
      "Best F1 for ComplementNB: 0.6895566521985158\n",
      "Confusion Matrix - Fold 1:\n",
      "[[1329  452]\n",
      " [ 298  851]]\n",
      "\n",
      "Confusion Matrix - Fold 2:\n",
      "[[1279  502]\n",
      " [ 289  860]]\n",
      "\n",
      "Fitting 2 folds for each of 1 candidates, totalling 2 fits\n"
     ]
    },
    {
     "name": "stderr",
     "output_type": "stream",
     "text": [
      "/home/ggenois/anaconda3/envs/rapids-24.08/lib/python3.9/site-packages/xgboost/core.py:158: UserWarning: [00:07:04] WARNING: /home/conda/feedstock_root/build_artifacts/xgboost-split_1722516643542/work/src/learner.cc:740: \n",
      "Parameters: { \"use_label_encoder\" } are not used.\n",
      "\n",
      "  warnings.warn(smsg, UserWarning)\n"
     ]
    },
    {
     "name": "stdout",
     "output_type": "stream",
     "text": [
      "[CV 1/2] END model__learning_rate=0.11976270078546496, model__max_depth=5, model__n_estimators=200, model__subsample=0.8411053504286575;, score=0.630 total time=   1.6s\n"
     ]
    },
    {
     "name": "stderr",
     "output_type": "stream",
     "text": [
      "/home/ggenois/anaconda3/envs/rapids-24.08/lib/python3.9/site-packages/xgboost/core.py:158: UserWarning: [00:07:06] WARNING: /home/conda/feedstock_root/build_artifacts/xgboost-split_1722516643542/work/src/learner.cc:740: \n",
      "Parameters: { \"use_label_encoder\" } are not used.\n",
      "\n",
      "  warnings.warn(smsg, UserWarning)\n"
     ]
    },
    {
     "name": "stdout",
     "output_type": "stream",
     "text": [
      "[CV 2/2] END model__learning_rate=0.11976270078546496, model__max_depth=5, model__n_estimators=200, model__subsample=0.8411053504286575;, score=0.635 total time=   1.6s\n"
     ]
    },
    {
     "name": "stderr",
     "output_type": "stream",
     "text": [
      "/home/ggenois/anaconda3/envs/rapids-24.08/lib/python3.9/site-packages/xgboost/core.py:158: UserWarning: [00:07:08] WARNING: /home/conda/feedstock_root/build_artifacts/xgboost-split_1722516643542/work/src/learner.cc:740: \n",
      "Parameters: { \"use_label_encoder\" } are not used.\n",
      "\n",
      "  warnings.warn(smsg, UserWarning)\n"
     ]
    },
    {
     "name": "stdout",
     "output_type": "stream",
     "text": [
      "Best F1 for XGBClassifier: 0.6321269577091664\n"
     ]
    },
    {
     "name": "stderr",
     "output_type": "stream",
     "text": [
      "/home/ggenois/anaconda3/envs/rapids-24.08/lib/python3.9/site-packages/xgboost/core.py:158: UserWarning: [00:07:10] WARNING: /home/conda/feedstock_root/build_artifacts/xgboost-split_1722516643542/work/src/learner.cc:740: \n",
      "Parameters: { \"use_label_encoder\" } are not used.\n",
      "\n",
      "  warnings.warn(smsg, UserWarning)\n",
      "/home/ggenois/anaconda3/envs/rapids-24.08/lib/python3.9/site-packages/xgboost/core.py:158: UserWarning: [00:07:12] WARNING: /home/conda/feedstock_root/build_artifacts/xgboost-split_1722516643542/work/src/learner.cc:740: \n",
      "Parameters: { \"use_label_encoder\" } are not used.\n",
      "\n",
      "  warnings.warn(smsg, UserWarning)\n"
     ]
    },
    {
     "name": "stdout",
     "output_type": "stream",
     "text": [
      "Confusion Matrix - Fold 1:\n",
      "[[1500  281]\n",
      " [ 492  657]]\n",
      "\n",
      "Confusion Matrix - Fold 2:\n",
      "[[1452  329]\n",
      " [ 462  687]]\n",
      "\n",
      "Fitting 2 folds for each of 1 candidates, totalling 2 fits\n",
      "[CV 1/2] END ...model__C=47, model__gamma=0.016;, score=0.507 total time= 2.1min\n",
      "[CV 2/2] END ...model__C=47, model__gamma=0.016;, score=0.522 total time= 2.1min\n",
      "Best F1 for SVC: 0.5144048932843956\n",
      "Confusion Matrix - Fold 1:\n",
      "[[1630  151]\n",
      " [ 708  441]]\n",
      "\n",
      "Confusion Matrix - Fold 2:\n",
      "[[1549  232]\n",
      " [ 661  488]]\n",
      "\n",
      "Fitting 2 folds for each of 1 candidates, totalling 2 fits\n",
      "[CV 1/2] END model__alpha=0.0774263682681127, model__l1_ratio=0.445;, score=0.441 total time=   0.8s\n",
      "[CV 2/2] END model__alpha=0.0774263682681127, model__l1_ratio=0.445;, score=0.420 total time=   1.1s\n",
      "Best F1 for SGDClassifier: 0.43032938318482\n",
      "Confusion Matrix - Fold 1:\n",
      "[[1599  182]\n",
      " [ 800  349]]\n",
      "\n",
      "Confusion Matrix - Fold 2:\n",
      "[[1553  228]\n",
      " [ 764  385]]\n",
      "\n"
     ]
    },
    {
     "name": "stderr",
     "output_type": "stream",
     "text": [
      "/home/ggenois/anaconda3/envs/rapids-24.08/lib/python3.9/site-packages/xgboost/core.py:158: UserWarning: [00:22:04] WARNING: /home/conda/feedstock_root/build_artifacts/xgboost-split_1722516643542/work/src/learner.cc:740: \n",
      "Parameters: { \"use_label_encoder\" } are not used.\n",
      "\n",
      "  warnings.warn(smsg, UserWarning)\n"
     ]
    },
    {
     "name": "stdout",
     "output_type": "stream",
     "text": [
      "predictions saved in output/20241112/002919_ensemble_cnb_xgboost_svc_sgd_random_search_15_iter_stopwords_undersampling_cumulative_sum.csv\n",
      "already same predictions saved in submissions? None\n",
      "already same predictions saved in output?\n",
      "\t None\n",
      "Number of 0: 1570\n",
      "Number of 1: 786\n",
      "Ratio of 1: 0.333616298811545\n",
      "Number of differences with bayes classifier submission: 171\n",
      "Ratio of 1 in bayes submission: 0.29499151103565363\n"
     ]
    }
   ],
   "source": [
    "data_preprocess = DataPreprocess()\n",
    "data_preprocess.remove_stopwords()\n",
    "data_preprocess.remove_cum_sum()\n",
    "X_train_undersampled, y_train_undersampled = random_undersampling(data_preprocess.train, data_preprocess.label_train)\n",
    "\n",
    "kf = StratifiedKFold(n_splits=5, shuffle=True, random_state=42)\n",
    "scores = []\n",
    "model_names = ['ComplementNB', 'XGBoost', 'SVC', 'SGD']\n",
    "# Validation croisée du voteur\n",
    "for train_index, test_index in kf.split(X_train_undersampled, y_train_undersampled):\n",
    "    # Split données\n",
    "    X_train, X_test = X_train_undersampled[train_index], X_train_undersampled[test_index]\n",
    "    y_train, y_test = y_train_undersampled[train_index], y_train_undersampled[test_index]\n",
    "    best_ensemble_model = train_ensemble(X_train, y_train, model_names)    \n",
    "    y_pred = best_ensemble_model.predict(X_test)\n",
    "    score = f1_score(y_test, y_pred)\n",
    "    scores.append(score)\n",
    "\n",
    "mean_score = np.mean(scores)\n",
    "print(\"Score F1 de validation du voteur: \", mean_score)\n",
    "\n",
    "best_ensemble_model = train_ensemble(X_train_undersampled, y_train_undersampled, model_names)\n",
    "predictions_voter = best_ensemble_model.predict(data_preprocess.test)\n",
    "save_output(predictions_voter, \"ensemble_cnb_xgboost_svc_sgd\", \"random_search_15_iter\", \"stopwords_undersampling_cumulative_sum\")"
   ]
  }
 ],
 "metadata": {
  "colab": {
   "provenance": []
  },
  "kernelspec": {
   "display_name": "Python 3 (ipykernel)",
   "language": "python",
   "name": "python3"
  },
  "language_info": {
   "codemirror_mode": {
    "name": "ipython",
    "version": 3
   },
   "file_extension": ".py",
   "mimetype": "text/x-python",
   "name": "python",
   "nbconvert_exporter": "python",
   "pygments_lexer": "ipython3",
   "version": "3.9.12"
  },
  "orig_nbformat": 4
 },
 "nbformat": 4,
 "nbformat_minor": 0
}
